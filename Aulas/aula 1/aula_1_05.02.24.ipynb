{
 "cells": [
  {
   "cell_type": "code",
   "execution_count": 6,
   "metadata": {},
   "outputs": [
    {
     "name": "stdout",
     "output_type": "stream",
     "text": [
      "a potencia e 196.0 ampere\n"
     ]
    }
   ],
   "source": [
    "v =float(input(\"Qual e a tensao entre nos (*/ω＼*), meu nobre?\"))\n",
    "i = float(input(\"qual e a corrente, arrombado?\"))\n",
    "\n",
    "p = v * i\n",
    "print(f\"a potencia e {p} ampere\")"
   ]
  },
  {
   "cell_type": "code",
   "execution_count": 10,
   "metadata": {},
   "outputs": [
    {
     "name": "stdout",
     "output_type": "stream",
     "text": [
      "o valor da potencia é 465.0 A\n"
     ]
    }
   ],
   "source": [
    "def potencia(tensao, corrente):\n",
    "    pot = tensao * corrente\n",
    "    return pot\n",
    "\n",
    "tensao =float(input(\"Qual e a tensao entre nos (*/ω＼*), meu nobre?\"))\n",
    "corrente = float(input(\"qual e a corrente, chefinho?\"))\n",
    "\n",
    "resultado =  potencia(tensao, corrente)\n",
    "\n",
    "print(f'o valor da potencia é {resultado} A')"
   ]
  },
  {
   "cell_type": "code",
   "execution_count": null,
   "metadata": {},
   "outputs": [],
   "source": [
    "idade = int(input(\"qual e a sua idade\"))\n",
    "\n",
    "if idade <= 11:\n",
    "    print(\"crianca\")\n",
    "    \n",
    "elif idade >=12 and idade<=20:\n",
    "    print(\"adolecente\")\n",
    "\n",
    "elif idade >= 21 and idade<=40:\n",
    "    print(\"adulto jovem\")\n",
    "\n",
    "elif idade >=41 and idade<= 65:\n",
    "    print(\"meia idade\")\n",
    "\n",
    "else:\n",
    "    print (\"idoso\")"
   ]
  },
  {
   "cell_type": "code",
   "execution_count": 1,
   "metadata": {},
   "outputs": [
    {
     "name": "stdout",
     "output_type": "stream",
     "text": [
      "first king\n",
      "first queen\n",
      "first duke\n",
      "second king\n",
      "second queen\n",
      "second duke\n",
      "third king\n",
      "third queen\n",
      "third duke\n"
     ]
    }
   ],
   "source": [
    "ordem = [\"first\", \"second\", \"third\"]\n",
    "titulo = [\"king\", \"queen\", \"duke\"]\n",
    "\n",
    "for x in ordem:\n",
    "    for y in titulo:\n",
    "        print (x,y)"
   ]
  },
  {
   "cell_type": "code",
   "execution_count": 5,
   "metadata": {},
   "outputs": [
    {
     "name": "stdout",
     "output_type": "stream",
     "text": [
      "maria foi aprovado com 9.0\n"
     ]
    }
   ],
   "source": [
    "alunos = [\"joao\", \"maria\", \"pedro\", \"ana\"]\n",
    "notas = [8.5, 9.0, 9.5, 7.5]\n",
    "faltas = [2, 0, 1, 3]\n",
    "\n",
    "for i in range(len(alunos)):\n",
    "    if notas[i] >= 8 and faltas[i] == 0:\n",
    "        print(f\"{alunos[i]} foi aprovado com {notas[i]}\")"
   ]
  },
  {
   "cell_type": "code",
   "execution_count": 19,
   "metadata": {},
   "outputs": [
    {
     "name": "stdout",
     "output_type": "stream",
     "text": [
      "Requirement already satisfied: pandas in c:\\python311\\lib\\site-packages (2.2.0)\n",
      "Requirement already satisfied: numpy<2,>=1.23.2 in c:\\python311\\lib\\site-packages (from pandas) (1.26.3)\n",
      "Requirement already satisfied: python-dateutil>=2.8.2 in c:\\python311\\lib\\site-packages (from pandas) (2.8.2)\n",
      "Requirement already satisfied: pytz>=2020.1 in c:\\python311\\lib\\site-packages (from pandas) (2024.1)\n",
      "Requirement already satisfied: tzdata>=2022.7 in c:\\python311\\lib\\site-packages (from pandas) (2023.4)\n",
      "Requirement already satisfied: six>=1.5 in c:\\python311\\lib\\site-packages (from python-dateutil>=2.8.2->pandas) (1.16.0)\n",
      "Note: you may need to restart the kernel to use updated packages.\n"
     ]
    },
    {
     "name": "stderr",
     "output_type": "stream",
     "text": [
      "\n",
      "[notice] A new release of pip is available: 23.1.2 -> 24.0\n",
      "[notice] To update, run: python.exe -m pip install --upgrade pip\n"
     ]
    }
   ],
   "source": [
    "pip install pandas "
   ]
  },
  {
   "cell_type": "code",
   "execution_count": 30,
   "metadata": {},
   "outputs": [],
   "source": [
    "import pandas as pd"
   ]
  },
  {
   "cell_type": "code",
   "execution_count": 38,
   "metadata": {},
   "outputs": [
    {
     "data": {
      "text/html": [
       "<div>\n",
       "<style scoped>\n",
       "    .dataframe tbody tr th:only-of-type {\n",
       "        vertical-align: middle;\n",
       "    }\n",
       "\n",
       "    .dataframe tbody tr th {\n",
       "        vertical-align: top;\n",
       "    }\n",
       "\n",
       "    .dataframe thead th {\n",
       "        text-align: right;\n",
       "    }\n",
       "</style>\n",
       "<table border=\"1\" class=\"dataframe\">\n",
       "  <thead>\n",
       "    <tr style=\"text-align: right;\">\n",
       "      <th></th>\n",
       "      <th>tipo de carro</th>\n",
       "      <th>tipo de direcao</th>\n",
       "      <th>tipo de pneu</th>\n",
       "      <th>faixa de preco</th>\n",
       "      <th>potencia-CV</th>\n",
       "      <th>velocidade de cruzeiro</th>\n",
       "    </tr>\n",
       "  </thead>\n",
       "  <tbody>\n",
       "    <tr>\n",
       "      <th>0</th>\n",
       "      <td>sedan</td>\n",
       "      <td>hidraulica</td>\n",
       "      <td>radial</td>\n",
       "      <td>alto</td>\n",
       "      <td>120</td>\n",
       "      <td>True</td>\n",
       "    </tr>\n",
       "    <tr>\n",
       "      <th>1</th>\n",
       "      <td>SUV</td>\n",
       "      <td>eletrica</td>\n",
       "      <td>diagonal</td>\n",
       "      <td>medio</td>\n",
       "      <td>130</td>\n",
       "      <td>False</td>\n",
       "    </tr>\n",
       "    <tr>\n",
       "      <th>2</th>\n",
       "      <td>hatchback</td>\n",
       "      <td>mecanica</td>\n",
       "      <td>radial</td>\n",
       "      <td>baixo</td>\n",
       "      <td>100</td>\n",
       "      <td>True</td>\n",
       "    </tr>\n",
       "    <tr>\n",
       "      <th>3</th>\n",
       "      <td>caminhonete</td>\n",
       "      <td>eletrica</td>\n",
       "      <td>diagonal</td>\n",
       "      <td>alto</td>\n",
       "      <td>180</td>\n",
       "      <td>True</td>\n",
       "    </tr>\n",
       "  </tbody>\n",
       "</table>\n",
       "</div>"
      ],
      "text/plain": [
       "  tipo de carro tipo de direcao tipo de pneu faixa de preco  potencia-CV  \\\n",
       "0         sedan      hidraulica       radial           alto          120   \n",
       "1           SUV        eletrica     diagonal          medio          130   \n",
       "2     hatchback        mecanica       radial          baixo          100   \n",
       "3   caminhonete        eletrica     diagonal           alto          180   \n",
       "\n",
       "   velocidade de cruzeiro  \n",
       "0                    True  \n",
       "1                   False  \n",
       "2                    True  \n",
       "3                    True  "
      ]
     },
     "execution_count": 38,
     "metadata": {},
     "output_type": "execute_result"
    }
   ],
   "source": [
    "dados = {\n",
    "    'tipo de carro': ['sedan', 'SUV', 'hatchback', 'caminhonete'],\n",
    "    'tipo de direcao': ['hidraulica', 'eletrica', 'mecanica', 'eletrica'],\n",
    "    'tipo de pneu': ['radial', 'diagonal', 'radial', 'diagonal'],\n",
    "    'faixa de preco': ['alto', 'medio', 'baixo', 'alto'],\n",
    "    'potencia-CV': [120, 130, 100, 180],\n",
    "    'velocidade de cruzeiro': [True, False, True, True]\n",
    "}\n",
    "\n",
    "df_carros = pd.DataFrame(dados)\n",
    "df_carros"
   ]
  },
  {
   "cell_type": "code",
   "execution_count": 39,
   "metadata": {},
   "outputs": [
    {
     "name": "stdout",
     "output_type": "stream",
     "text": [
      "<class 'pandas.core.frame.DataFrame'>\n",
      "RangeIndex: 4 entries, 0 to 3\n",
      "Data columns (total 6 columns):\n",
      " #   Column                  Non-Null Count  Dtype \n",
      "---  ------                  --------------  ----- \n",
      " 0   tipo de carro           4 non-null      object\n",
      " 1   tipo de direcao         4 non-null      object\n",
      " 2   tipo de pneu            4 non-null      object\n",
      " 3   faixa de preco          4 non-null      object\n",
      " 4   potencia-CV             4 non-null      int64 \n",
      " 5   velocidade de cruzeiro  4 non-null      bool  \n",
      "dtypes: bool(1), int64(1), object(4)\n",
      "memory usage: 296.0+ bytes\n"
     ]
    }
   ],
   "source": [
    "# mostra as informacoes, desde a quantidade ate o tipo dos dados e os nomes das variaveis \n",
    "df_carros.info() "
   ]
  },
  {
   "cell_type": "code",
   "execution_count": 42,
   "metadata": {},
   "outputs": [
    {
     "data": {
      "text/html": [
       "<div>\n",
       "<style scoped>\n",
       "    .dataframe tbody tr th:only-of-type {\n",
       "        vertical-align: middle;\n",
       "    }\n",
       "\n",
       "    .dataframe tbody tr th {\n",
       "        vertical-align: top;\n",
       "    }\n",
       "\n",
       "    .dataframe thead th {\n",
       "        text-align: right;\n",
       "    }\n",
       "</style>\n",
       "<table border=\"1\" class=\"dataframe\">\n",
       "  <thead>\n",
       "    <tr style=\"text-align: right;\">\n",
       "      <th></th>\n",
       "      <th>tipo de carro</th>\n",
       "      <th>tipo de direcao</th>\n",
       "      <th>tipo de pneu</th>\n",
       "      <th>faixa de preco</th>\n",
       "      <th>potencia-CV</th>\n",
       "      <th>velocidade de cruzeiro</th>\n",
       "    </tr>\n",
       "  </thead>\n",
       "  <tbody>\n",
       "    <tr>\n",
       "      <th>0</th>\n",
       "      <td>sedan</td>\n",
       "      <td>hidraulica</td>\n",
       "      <td>radial</td>\n",
       "      <td>alto</td>\n",
       "      <td>120</td>\n",
       "      <td>True</td>\n",
       "    </tr>\n",
       "    <tr>\n",
       "      <th>1</th>\n",
       "      <td>SUV</td>\n",
       "      <td>eletrica</td>\n",
       "      <td>diagonal</td>\n",
       "      <td>medio</td>\n",
       "      <td>130</td>\n",
       "      <td>False</td>\n",
       "    </tr>\n",
       "    <tr>\n",
       "      <th>2</th>\n",
       "      <td>hatchback</td>\n",
       "      <td>mecanica</td>\n",
       "      <td>radial</td>\n",
       "      <td>baixo</td>\n",
       "      <td>100</td>\n",
       "      <td>True</td>\n",
       "    </tr>\n",
       "  </tbody>\n",
       "</table>\n",
       "</div>"
      ],
      "text/plain": [
       "  tipo de carro tipo de direcao tipo de pneu faixa de preco  potencia-CV  \\\n",
       "0         sedan      hidraulica       radial           alto          120   \n",
       "1           SUV        eletrica     diagonal          medio          130   \n",
       "2     hatchback        mecanica       radial          baixo          100   \n",
       "\n",
       "   velocidade de cruzeiro  \n",
       "0                    True  \n",
       "1                   False  \n",
       "2                    True  "
      ]
     },
     "execution_count": 42,
     "metadata": {},
     "output_type": "execute_result"
    }
   ],
   "source": [
    "# mostra uma quantidade limitada de linhas a ser mostrada\n",
    "df_carros.head(3)"
   ]
  },
  {
   "cell_type": "code",
   "execution_count": 43,
   "metadata": {},
   "outputs": [
    {
     "data": {
      "text/plain": [
       "0          sedan\n",
       "1            SUV\n",
       "2      hatchback\n",
       "3    caminhonete\n",
       "Name: tipo de carro, dtype: object"
      ]
     },
     "execution_count": 43,
     "metadata": {},
     "output_type": "execute_result"
    }
   ],
   "source": [
    "# mostra a coluna exata do data frame\n",
    "df_carros['tipo de carro']"
   ]
  },
  {
   "cell_type": "code",
   "execution_count": 49,
   "metadata": {},
   "outputs": [
    {
     "name": "stdout",
     "output_type": "stream",
     "text": [
      "o valor minimo é 100\n",
      "o valor maximo é 180\n",
      "o valor media é 132.5\n",
      "o valor mediana é 125.0\n"
     ]
    }
   ],
   "source": [
    "print('o valor minimo é', df_carros['potencia-CV'].min())\n",
    "print('o valor maximo é', df_carros['potencia-CV'].max())\n",
    "print('o valor media é', df_carros['potencia-CV'].mean())\n",
    "print('o valor mediana é', df_carros['potencia-CV'].median())\n"
   ]
  },
  {
   "cell_type": "code",
   "execution_count": 55,
   "metadata": {},
   "outputs": [
    {
     "data": {
      "text/html": [
       "<div>\n",
       "<style scoped>\n",
       "    .dataframe tbody tr th:only-of-type {\n",
       "        vertical-align: middle;\n",
       "    }\n",
       "\n",
       "    .dataframe tbody tr th {\n",
       "        vertical-align: top;\n",
       "    }\n",
       "\n",
       "    .dataframe thead th {\n",
       "        text-align: right;\n",
       "    }\n",
       "</style>\n",
       "<table border=\"1\" class=\"dataframe\">\n",
       "  <thead>\n",
       "    <tr style=\"text-align: right;\">\n",
       "      <th></th>\n",
       "      <th>tipo de carro</th>\n",
       "      <th>tipo de direcao</th>\n",
       "      <th>tipo de pneu</th>\n",
       "      <th>faixa de preco</th>\n",
       "      <th>potencia-CV</th>\n",
       "      <th>velocidade de cruzeiro</th>\n",
       "    </tr>\n",
       "  </thead>\n",
       "  <tbody>\n",
       "    <tr>\n",
       "      <th>0</th>\n",
       "      <td>sedan</td>\n",
       "      <td>hidraulica</td>\n",
       "      <td>radial</td>\n",
       "      <td>alto</td>\n",
       "      <td>120</td>\n",
       "      <td>True</td>\n",
       "    </tr>\n",
       "  </tbody>\n",
       "</table>\n",
       "</div>"
      ],
      "text/plain": [
       "  tipo de carro tipo de direcao tipo de pneu faixa de preco  potencia-CV  \\\n",
       "0         sedan      hidraulica       radial           alto          120   \n",
       "\n",
       "   velocidade de cruzeiro  \n",
       "0                    True  "
      ]
     },
     "execution_count": 55,
     "metadata": {},
     "output_type": "execute_result"
    }
   ],
   "source": [
    "def filtra_por_valor (df_carros, coluna, valor):\n",
    "\n",
    "    return df_carros[df_carros[coluna]==valor]\n",
    "filtra_por_valor(df_carros, 'tipo de carro', 'sedan')"
   ]
  },
  {
   "cell_type": "code",
   "execution_count": 59,
   "metadata": {},
   "outputs": [
    {
     "name": "stdout",
     "output_type": "stream",
     "text": [
      "dados para sedan:\n",
      "   tipo de carro tipo de direcao tipo de pneu faixa de preco  potencia-CV  \\\n",
      "0         sedan      hidraulica       radial           alto          120   \n",
      "\n",
      "   velocidade de cruzeiro  \n",
      "0                    True  \n",
      "\n",
      "dados para hatchback:\n",
      "   tipo de carro tipo de direcao tipo de pneu faixa de preco  potencia-CV  \\\n",
      "2     hatchback        mecanica       radial          baixo          100   \n",
      "\n",
      "   velocidade de cruzeiro  \n",
      "2                    True  \n",
      "\n"
     ]
    }
   ],
   "source": [
    "carro_desejado = ['sedan', 'hatchback']\n",
    "\n",
    "# .loc - seleciona uma coluna especifica\n",
    "for carro in carro_desejado:\n",
    "    dados = df_carros.loc[df_carros['tipo de carro'] == carro]\n",
    "    print(f'dados para {carro}:\\n {dados}\\n')"
   ]
  }
 ],
 "metadata": {
  "kernelspec": {
   "display_name": "Python 3",
   "language": "python",
   "name": "python3"
  },
  "language_info": {
   "codemirror_mode": {
    "name": "ipython",
    "version": 3
   },
   "file_extension": ".py",
   "mimetype": "text/x-python",
   "name": "python",
   "nbconvert_exporter": "python",
   "pygments_lexer": "ipython3",
   "version": "3.11.4"
  },
  "orig_nbformat": 4
 },
 "nbformat": 4,
 "nbformat_minor": 2
}
