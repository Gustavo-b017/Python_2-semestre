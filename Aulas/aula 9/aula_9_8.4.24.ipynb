{
 "cells": [
  {
   "cell_type": "code",
   "execution_count": 13,
   "metadata": {},
   "outputs": [
    {
     "name": "stdout",
     "output_type": "stream",
     "text": [
      "4\n",
      "8\n",
      "36\n"
     ]
    }
   ],
   "source": [
    "# multiplicacao\n",
    "quadrado  = lambda x: x*x\n",
    "print(quadrado(2))\n",
    "\n",
    "# elevar o numero ao quadrado\n",
    "\n",
    "dupliacado = lambda x: x*2\n",
    "print(dupliacado(4))\n",
    "\n",
    "# elevar ao cubo\n",
    "\n",
    "cubo = lambda x: x**2\n",
    "print(cubo(6))\n",
    "\n",
    "\n"
   ]
  },
  {
   "cell_type": "code",
   "execution_count": 3,
   "metadata": {},
   "outputs": [
    {
     "name": "stdout",
     "output_type": "stream",
     "text": [
      "nome Gustavo, \n",
      "sobrenome Bezerra\n"
     ]
    }
   ],
   "source": [
    "# nome competo\n",
    "\n",
    "nomeCompleto = lambda nome, sobrenome: f'nome {nome}, \\nsobrenome {sobrenome}'\n",
    "\n",
    "print(nomeCompleto('Gustavo','Bezerra'))"
   ]
  },
  {
   "cell_type": "code",
   "execution_count": 4,
   "metadata": {},
   "outputs": [
    {
     "name": "stdout",
     "output_type": "stream",
     "text": [
      "True\n",
      "True\n",
      "False\n"
     ]
    }
   ],
   "source": [
    "comecaG = lambda x:True if x.startswith('G') else False\n",
    "print(comecaG('Gabriela'))\n",
    "print(comecaG('Gambit'))\n",
    "print(comecaG('Bebe'))"
   ]
  },
  {
   "cell_type": "code",
   "execution_count": 6,
   "metadata": {},
   "outputs": [
    {
     "name": "stdout",
     "output_type": "stream",
     "text": [
      "True\n",
      "False\n",
      "True\n",
      "False\n"
     ]
    }
   ],
   "source": [
    "impar = lambda x:True if x %2 == 1 else False\n",
    "print(impar(1))\n",
    "print(impar(8))\n",
    "\n",
    "par = lambda x:True if x %2 != 1 else False\n",
    "print(par(12))\n",
    "print(par(9))"
   ]
  },
  {
   "cell_type": "code",
   "execution_count": 11,
   "metadata": {},
   "outputs": [
    {
     "name": "stdout",
     "output_type": "stream",
     "text": [
      "aldulto\n",
      "adolecente\n",
      "crianca\n"
     ]
    }
   ],
   "source": [
    "classificarIdade = lambda idade:'crianca' if idade <13 else('adolecente' if idade <18 else \"aldulto\")\n",
    "print(classificarIdade(21))\n",
    "print(classificarIdade(15))\n",
    "print(classificarIdade(4))"
   ]
  },
  {
   "cell_type": "code",
   "execution_count": 16,
   "metadata": {},
   "outputs": [
    {
     "name": "stdout",
     "output_type": "stream",
     "text": [
      "58.8\n",
      "55.0\n",
      "escala invalida\n"
     ]
    }
   ],
   "source": [
    "convTemp = lambda temp, escala: (temp + 9/5) +32 if escala == 'C' else (temp - 32) * 5/6 if escala == 'F' else 'escala invalida'\n",
    "print(convTemp(25,'C'))\n",
    "print(convTemp(98,'F'))\n",
    "print(convTemp(100,'K'))"
   ]
  },
  {
   "cell_type": "code",
   "execution_count": 19,
   "metadata": {},
   "outputs": [
    {
     "name": "stdout",
     "output_type": "stream",
     "text": [
      "20\n"
     ]
    }
   ],
   "source": [
    "def constQuadrado(a,b,c):\n",
    "    # retorna a funcao de f(x) = ax**2 +bx + c\n",
    "    return lambda x: a*x**2 +b*x + c\n",
    "\n",
    "f = constQuadrado(2,3,6)\n",
    "print(f(2))"
   ]
  },
  {
   "cell_type": "code",
   "execution_count": 20,
   "metadata": {},
   "outputs": [],
   "source": [
    "# ex 1; crie uma funcao dentro de uma funcao para calcular a media ponderada de dois numeros\n",
    "\n",
    "# ex 2; crie uma funcao para calcular o perimetro de um retangulo com base na altura e largura\n",
    "\n",
    "# ex 3; calcule o volume de um retangulo usando funcao\n",
    "\n",
    "# ex 4; funcao para calcular a equacao de newton(f = m *a ), dando os dois perimetros m e a"
   ]
  },
  {
   "cell_type": "code",
   "execution_count": 34,
   "metadata": {},
   "outputs": [
    {
     "name": "stdout",
     "output_type": "stream",
     "text": [
      "3.0\n"
     ]
    }
   ],
   "source": [
    "def Ponderada ( peso1, peso2):\n",
    "    return lambda x, y: (x*peso1 + y*peso2) / (peso1 + peso2)\n",
    "\n",
    "f = Ponderada(2,2)\n",
    "\n",
    "print(f(2,4))"
   ]
  },
  {
   "cell_type": "code",
   "execution_count": 42,
   "metadata": {},
   "outputs": [
    {
     "name": "stdout",
     "output_type": "stream",
     "text": [
      "8\n"
     ]
    },
    {
     "data": {
      "text/plain": [
       "16"
      ]
     },
     "execution_count": 42,
     "metadata": {},
     "output_type": "execute_result"
    }
   ],
   "source": [
    "def Perimetro():\n",
    "    return lambda largura, altura: (largura + altura) * 2\n",
    "\n",
    "f= Perimetro()\n",
    "print(f(2,2))\n",
    "\n",
    "# prof:\n",
    "def criarPerimetro(largura, altura):\n",
    "    return lambda: 2*(largura + altura)\n",
    "peri = criarPerimetro(5,3)\n",
    "resu = peri()\n",
    "resu"
   ]
  },
  {
   "cell_type": "code",
   "execution_count": 46,
   "metadata": {},
   "outputs": [
    {
     "name": "stdout",
     "output_type": "stream",
     "text": [
      "24\n"
     ]
    }
   ],
   "source": [
    "# alt = int(input('qual e a altura'))\n",
    "# larg = int(input('qual e a largura'))\n",
    "# profun = int(input('qual e a profundidade'))\n",
    "\n",
    "# def Volume():\n",
    "#     return lambda alt, larg, profun: alt * larg * profun\n",
    "\n",
    "# f= Volume()\n",
    "# print(f(alt, larg, profun))\n",
    "\n",
    "# prof\n",
    "\n",
    "def Vol(largura, altura, profundidade):\n",
    "    return lambda: largura * altura*profundidade\n",
    "calVol = Vol(2,3,4)\n",
    "print(calVol())"
   ]
  },
  {
   "cell_type": "code",
   "execution_count": 32,
   "metadata": {},
   "outputs": [
    {
     "name": "stdout",
     "output_type": "stream",
     "text": [
      "12\n"
     ]
    }
   ],
   "source": [
    "def Newton():\n",
    "    return lambda massa, acele: massa * acele\n",
    "\n",
    "f = Newton()\n",
    "print(f(2,6))"
   ]
  }
 ],
 "metadata": {
  "kernelspec": {
   "display_name": "Python 3",
   "language": "python",
   "name": "python3"
  },
  "language_info": {
   "codemirror_mode": {
    "name": "ipython",
    "version": 3
   },
   "file_extension": ".py",
   "mimetype": "text/x-python",
   "name": "python",
   "nbconvert_exporter": "python",
   "pygments_lexer": "ipython3",
   "version": "3.11.4"
  },
  "orig_nbformat": 4
 },
 "nbformat": 4,
 "nbformat_minor": 2
}
