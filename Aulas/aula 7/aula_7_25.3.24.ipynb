{
 "cells": [
  {
   "attachments": {},
   "cell_type": "markdown",
   "metadata": {},
   "source": [
    "## Funcao quadrada\n",
    "\n",
    "#### Cria  funcao \n",
    "#### cria um var y, que vai multiplicar a var X x X, ou X^2 \n",
    "#### retorna y"
   ]
  },
  {
   "cell_type": "code",
   "execution_count": 8,
   "metadata": {},
   "outputs": [
    {
     "name": "stdout",
     "output_type": "stream",
     "text": [
      "4\n",
      "16\n",
      "36\n"
     ]
    }
   ],
   "source": [
    "def quadrado(x):\n",
    "    y = x**2\n",
    "    return y\n",
    "\n",
    "print(quadrado(2))\n",
    "print(quadrado(4))\n",
    "print(quadrado(6))"
   ]
  },
  {
   "attachments": {},
   "cell_type": "markdown",
   "metadata": {},
   "source": [
    "## funcao soma quadrado\n",
    "\n",
    "#### cria a funcao soma quadrado com 3 paramentros (x,y,z)\n",
    "#### crie 3 var e chame a funcao quadrado\n",
    "#### retorne a+b+c, a= quadrado(y)"
   ]
  },
  {
   "cell_type": "code",
   "execution_count": 10,
   "metadata": {},
   "outputs": [
    {
     "name": "stdout",
     "output_type": "stream",
     "text": [
      "56\n",
      "149\n",
      "108\n"
     ]
    }
   ],
   "source": [
    "def soma_quadrado(x, y, z):\n",
    "    a = quadrado(x)\n",
    "    b = quadrado(y)\n",
    "    c = quadrado(z)\n",
    "\n",
    "    return a + b+ c\n",
    "\n",
    "print(soma_quadrado(2, 4, 6))\n",
    "print(soma_quadrado(6, 7, 8))\n",
    "print(soma_quadrado(2, 10, 2))"
   ]
  },
  {
   "attachments": {},
   "cell_type": "markdown",
   "metadata": {},
   "source": [
    "https://prod.liveshare.vsengsaas.visualstudio.com/join?B0398541075822A5E7CF5D3459DD4994BDE7"
   ]
  }
 ],
 "metadata": {
  "kernelspec": {
   "display_name": "Python 3",
   "language": "python",
   "name": "python3"
  },
  "language_info": {
   "codemirror_mode": {
    "name": "ipython",
    "version": 3
   },
   "file_extension": ".py",
   "mimetype": "text/x-python",
   "name": "python",
   "nbconvert_exporter": "python",
   "pygments_lexer": "ipython3",
   "version": "3.11.4"
  },
  "orig_nbformat": 4
 },
 "nbformat": 4,
 "nbformat_minor": 2
}
