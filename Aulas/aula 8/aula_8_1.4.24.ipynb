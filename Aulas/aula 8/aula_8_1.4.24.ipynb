{
 "cells": [
  {
   "cell_type": "code",
   "execution_count": null,
   "metadata": {},
   "outputs": [],
   "source": []
  },
  {
   "attachments": {},
   "cell_type": "markdown",
   "metadata": {},
   "source": [
    "# Funcao e dataFrame com pandas e numpy"
   ]
  },
  {
   "cell_type": "code",
   "execution_count": 3,
   "metadata": {},
   "outputs": [],
   "source": [
    "import pandas as pd\n",
    "import numpy as np"
   ]
  },
  {
   "cell_type": "code",
   "execution_count": 24,
   "metadata": {},
   "outputs": [
    {
     "data": {
      "text/html": [
       "<div>\n",
       "<style scoped>\n",
       "    .dataframe tbody tr th:only-of-type {\n",
       "        vertical-align: middle;\n",
       "    }\n",
       "\n",
       "    .dataframe tbody tr th {\n",
       "        vertical-align: top;\n",
       "    }\n",
       "\n",
       "    .dataframe thead th {\n",
       "        text-align: right;\n",
       "    }\n",
       "</style>\n",
       "<table border=\"1\" class=\"dataframe\">\n",
       "  <thead>\n",
       "    <tr style=\"text-align: right;\">\n",
       "      <th></th>\n",
       "      <th>nome</th>\n",
       "      <th>Idade</th>\n",
       "      <th>Salario</th>\n",
       "    </tr>\n",
       "  </thead>\n",
       "  <tbody>\n",
       "    <tr>\n",
       "      <th>0</th>\n",
       "      <td>Alice</td>\n",
       "      <td>25</td>\n",
       "      <td>5000</td>\n",
       "    </tr>\n",
       "    <tr>\n",
       "      <th>1</th>\n",
       "      <td>Bob</td>\n",
       "      <td>30</td>\n",
       "      <td>6000</td>\n",
       "    </tr>\n",
       "    <tr>\n",
       "      <th>2</th>\n",
       "      <td>Charlie</td>\n",
       "      <td>35</td>\n",
       "      <td>7000</td>\n",
       "    </tr>\n",
       "    <tr>\n",
       "      <th>3</th>\n",
       "      <td>David</td>\n",
       "      <td>40</td>\n",
       "      <td>8000</td>\n",
       "    </tr>\n",
       "    <tr>\n",
       "      <th>4</th>\n",
       "      <td>Emily</td>\n",
       "      <td>45</td>\n",
       "      <td>9000</td>\n",
       "    </tr>\n",
       "  </tbody>\n",
       "</table>\n",
       "</div>"
      ],
      "text/plain": [
       "      nome  Idade  Salario\n",
       "0    Alice     25     5000\n",
       "1      Bob     30     6000\n",
       "2  Charlie     35     7000\n",
       "3    David     40     8000\n",
       "4    Emily     45     9000"
      ]
     },
     "execution_count": 24,
     "metadata": {},
     "output_type": "execute_result"
    }
   ],
   "source": [
    "dados = {\n",
    "    'nome': ['Alice', 'Bob', 'Charlie','David','Emily'],\n",
    "    'Idade': [25,30,35,40,45],\n",
    "    'Salario': [5000, 6000, 7000, 8000, 9000]}\n",
    "\n",
    "var_1 = df['Idade']\n",
    "\n",
    "df = pd.DataFrame(dados)\n",
    "\n",
    "var_1 = df['Idade']\n",
    "var_2 = df['Salario']\n",
    "df"
   ]
  },
  {
   "cell_type": "code",
   "execution_count": 14,
   "metadata": {},
   "outputs": [
    {
     "name": "stdout",
     "output_type": "stream",
     "text": [
      "5000.0\n",
      "5500.0\n",
      "6000.0\n",
      "6500.0\n",
      "7000.0\n"
     ]
    }
   ],
   "source": [
    "soma_salario = 0\n",
    "contador = 0\n",
    "i= 0 \n",
    "\n",
    "while i <len(df):\n",
    "    soma_salario += df['Salario'][i]\n",
    "    contador += 1\n",
    "    media_salario = soma_salario / contador\n",
    "\n",
    "    if media_salario > 7000:\n",
    "        break\n",
    "    print(media_salario)\n",
    "\n",
    "    i += 1"
   ]
  },
  {
   "cell_type": "code",
   "execution_count": 7,
   "metadata": {},
   "outputs": [
    {
     "name": "stdout",
     "output_type": "stream",
     "text": [
      "Nome: Alice - Idade 25\n",
      "Nome: Bob - Idade 30\n",
      "Nome: Charlie - Idade 35\n",
      "Nome: David - Idade 40\n",
      "Nome: Emily - Idade 45\n"
     ]
    }
   ],
   "source": [
    "i = 0\n",
    "\n",
    "while i < len(df):\n",
    "    print('Nome:', df['nome'][i], '- Idade', df['Idade'][i] )\n",
    "    i +=1"
   ]
  },
  {
   "cell_type": "code",
   "execution_count": 10,
   "metadata": {},
   "outputs": [
    {
     "name": "stdout",
     "output_type": "stream",
     "text": [
      "nome       Charlie\n",
      "Idade           35\n",
      "Salario       7000\n",
      "Name: 2, dtype: object\n",
      "nome       David\n",
      "Idade         40\n",
      "Salario     8000\n",
      "Name: 3, dtype: object\n",
      "nome       Emily\n",
      "Idade         45\n",
      "Salario     9000\n",
      "Name: 4, dtype: object\n"
     ]
    }
   ],
   "source": [
    "i = 0\n",
    "\n",
    "while i < len (df):\n",
    "    if df['Salario'][i] >6000:\n",
    "        print(df.iloc[i])\n",
    "    \n",
    "    i += 1"
   ]
  },
  {
   "cell_type": "code",
   "execution_count": 11,
   "metadata": {},
   "outputs": [
    {
     "name": "stdout",
     "output_type": "stream",
     "text": [
      "salario:  5000\n",
      "salario:  6000\n",
      "salario:  7000\n",
      "salario:  8000\n",
      "salario:  9000\n"
     ]
    }
   ],
   "source": [
    "for salario in df[\"Salario\"]:\n",
    "    print('salario: ' ,salario)"
   ]
  },
  {
   "cell_type": "code",
   "execution_count": 12,
   "metadata": {},
   "outputs": [
    {
     "name": "stdout",
     "output_type": "stream",
     "text": [
      "a media de  Idade : 35.0\n",
      "a media de  Salario : 7000.0\n"
     ]
    }
   ],
   "source": [
    "for coluna in df.select_dtypes(include = ['int', 'float']):\n",
    "    media = df[coluna].mean()\n",
    "    print('a media de ', coluna, ':', media)"
   ]
  },
  {
   "cell_type": "code",
   "execution_count": 13,
   "metadata": {},
   "outputs": [
    {
     "name": "stdout",
     "output_type": "stream",
     "text": [
      "['Alice' 'Bob' 'Charlie' 'David' 'Emily']\n"
     ]
    }
   ],
   "source": [
    "print(df['nome'].values)"
   ]
  },
  {
   "cell_type": "code",
   "execution_count": 16,
   "metadata": {},
   "outputs": [
    {
     "data": {
      "text/plain": [
       "0    5500.0\n",
       "1    6600.0\n",
       "2    7700.0\n",
       "3    8800.0\n",
       "4    9900.0\n",
       "Name: Salario, dtype: float64"
      ]
     },
     "execution_count": 16,
     "metadata": {},
     "output_type": "execute_result"
    }
   ],
   "source": [
    "# calcular bonus para o funcionario funcao def\n",
    "\n",
    "# programa para calcular bonus de 10% para os funcionarios, e mostre o bonus\n",
    "\n",
    "def bonus():\n",
    "    bonos = df['Salario'] * 1.1\n",
    "    return bonos\n",
    "\n",
    "bonus()"
   ]
  },
  {
   "cell_type": "code",
   "execution_count": 21,
   "metadata": {},
   "outputs": [
    {
     "name": "stdout",
     "output_type": "stream",
     "text": [
      "[500.0, 600.0, 700.0, 800.0, 900.0]\n"
     ]
    }
   ],
   "source": [
    "def bonus(salario):\n",
    "    return salario *0.1\n",
    "\n",
    "bonus_lista = []\n",
    "\n",
    "for indice, linha in df.iterrows():\n",
    "    bonus_lista.append(bonus(linha['Salario']))\n",
    "print(bonus_lista)"
   ]
  },
  {
   "cell_type": "code",
   "execution_count": 25,
   "metadata": {},
   "outputs": [
    {
     "data": {
      "text/html": [
       "<div>\n",
       "<style scoped>\n",
       "    .dataframe tbody tr th:only-of-type {\n",
       "        vertical-align: middle;\n",
       "    }\n",
       "\n",
       "    .dataframe tbody tr th {\n",
       "        vertical-align: top;\n",
       "    }\n",
       "\n",
       "    .dataframe thead th {\n",
       "        text-align: right;\n",
       "    }\n",
       "</style>\n",
       "<table border=\"1\" class=\"dataframe\">\n",
       "  <thead>\n",
       "    <tr style=\"text-align: right;\">\n",
       "      <th></th>\n",
       "      <th>Idade</th>\n",
       "      <th>Salario</th>\n",
       "    </tr>\n",
       "  </thead>\n",
       "  <tbody>\n",
       "    <tr>\n",
       "      <th>0</th>\n",
       "      <td>25</td>\n",
       "      <td>5000</td>\n",
       "    </tr>\n",
       "    <tr>\n",
       "      <th>1</th>\n",
       "      <td>30</td>\n",
       "      <td>6000</td>\n",
       "    </tr>\n",
       "    <tr>\n",
       "      <th>2</th>\n",
       "      <td>35</td>\n",
       "      <td>7000</td>\n",
       "    </tr>\n",
       "    <tr>\n",
       "      <th>3</th>\n",
       "      <td>40</td>\n",
       "      <td>8000</td>\n",
       "    </tr>\n",
       "    <tr>\n",
       "      <th>4</th>\n",
       "      <td>45</td>\n",
       "      <td>9000</td>\n",
       "    </tr>\n",
       "  </tbody>\n",
       "</table>\n",
       "</div>"
      ],
      "text/plain": [
       "   Idade  Salario\n",
       "0     25     5000\n",
       "1     30     6000\n",
       "2     35     7000\n",
       "3     40     8000\n",
       "4     45     9000"
      ]
     },
     "execution_count": 25,
     "metadata": {},
     "output_type": "execute_result"
    }
   ],
   "source": [
    "# calcular a media de idade e salario e retorne apenas um datafre contendo as suas informacoes\n",
    "\n",
    "media_idade = df['Idade'].mean()\n",
    "media_salario = df['Salario'].mean()\n",
    "\n",
    "df_final = pd.concat([var_1, var_2], axis=1)\n",
    "df_final"
   ]
  },
  {
   "cell_type": "code",
   "execution_count": null,
   "metadata": {},
   "outputs": [],
   "source": [
    "df_tipo = df[df['Tipo'] == 'M'] | df"
   ]
  }
 ],
 "metadata": {
  "kernelspec": {
   "display_name": "Python 3",
   "language": "python",
   "name": "python3"
  },
  "language_info": {
   "codemirror_mode": {
    "name": "ipython",
    "version": 3
   },
   "file_extension": ".py",
   "mimetype": "text/x-python",
   "name": "python",
   "nbconvert_exporter": "python",
   "pygments_lexer": "ipython3",
   "version": "3.11.4"
  },
  "orig_nbformat": 4
 },
 "nbformat": 4,
 "nbformat_minor": 2
}
