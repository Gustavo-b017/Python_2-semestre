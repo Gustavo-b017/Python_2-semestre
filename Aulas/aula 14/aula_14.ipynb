{
 "cells": [
  {
   "attachments": {},
   "cell_type": "markdown",
   "metadata": {},
   "source": [
    "criar um agloritimo de busca linear\n",
    "\n",
    "1. criar funcao com parametro lista e valor\n",
    "2. estrutura de repeticao com indice e elemento para enumerar uma lista \n",
    "3. retornar indice\n",
    "4. chamar funcao e testar algoritimo\n",
    "5. lista = [10,20,30,40,50]\n",
    "\n"
   ]
  },
  {
   "cell_type": "code",
   "execution_count": 4,
   "metadata": {},
   "outputs": [
    {
     "name": "stdout",
     "output_type": "stream",
     "text": [
      "30\n"
     ]
    }
   ],
   "source": [
    "lista = [10,20,30,40,50]\n",
    "lista_vazia = []\n",
    "\n",
    "def busca():\n",
    "    for i in lista:\n",
    "        if i == 30:\n",
    "            print(i)\n",
    "    \n",
    "busca()"
   ]
  },
  {
   "attachments": {},
   "cell_type": "markdown",
   "metadata": {},
   "source": [
    "codigo em python\n",
    "\n",
    "1. criar uma funcao com parametros array, x, low, high\n",
    "2. estrutura de repeticao usando while para enquanto low <= high \n",
    "    1. mid = low + (high - low) / 2\n",
    "3. condicao array[mid] == x\n",
    "4. retorna mid "
   ]
  },
  {
   "cell_type": "code",
   "execution_count": null,
   "metadata": {},
   "outputs": [],
   "source": [
    "def busca2(array, x, low, high):\n",
    "    while low <= high:\n",
    "        "
   ]
  }
 ],
 "metadata": {
  "kernelspec": {
   "display_name": "Python 3",
   "language": "python",
   "name": "python3"
  },
  "language_info": {
   "codemirror_mode": {
    "name": "ipython",
    "version": 3
   },
   "file_extension": ".py",
   "mimetype": "text/x-python",
   "name": "python",
   "nbconvert_exporter": "python",
   "pygments_lexer": "ipython3",
   "version": "3.11.4"
  },
  "orig_nbformat": 4
 },
 "nbformat": 4,
 "nbformat_minor": 2
}
