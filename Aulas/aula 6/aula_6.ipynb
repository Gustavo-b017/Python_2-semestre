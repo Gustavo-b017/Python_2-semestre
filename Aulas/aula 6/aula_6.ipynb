{
 "cells": [
  {
   "cell_type": "code",
   "execution_count": 1,
   "metadata": {},
   "outputs": [],
   "source": [
    "import pandas as pd\n",
    "import numpy as np\n"
   ]
  },
  {
   "attachments": {},
   "cell_type": "markdown",
   "metadata": {},
   "source": [
    "1. Crie uma tupla chamada marca_carros com os seguintes elementos: Chevrolet, Fiat, Honda, Audi, Mercedez, Toyota. Acesse o terceiro elemento da tupla, substitua por Volvo e crie uma variável chamada marca_carros_modificadas. Após isso, concatene esta tupla com uma nova tupla contendo Mitsubishi e Ford. Por fim, retorne apenas uma tupla chamada tupla-carros."
   ]
  },
  {
   "cell_type": "code",
   "execution_count": 6,
   "metadata": {},
   "outputs": [
    {
     "data": {
      "text/plain": [
       "('Chevrolet', 'Fiat', 'Volvo', 'Audi', 'Mercedez', 'Toyota')"
      ]
     },
     "execution_count": 6,
     "metadata": {},
     "output_type": "execute_result"
    }
   ],
   "source": [
    "marca_carros = ('Chevrolet', 'Fiat', 'Honda', 'Audi','Mercedez', 'Toyota')\n",
    "arr = np.array(marca_carros)\n",
    "arr[2] = 'Volvo'\n",
    "marca_carros = tuple(arr)\n",
    "\n",
    "marca_carros\n",
    "\n"
   ]
  },
  {
   "attachments": {},
   "cell_type": "markdown",
   "metadata": {},
   "source": [
    "2. Crie uma lista com os números do seu RA, separado por vírgula para cada número. Após isso, crie uma estrutura usando a função def para retornar a soma do quadrado do seu número do RA."
   ]
  },
  {
   "cell_type": "code",
   "execution_count": 17,
   "metadata": {},
   "outputs": [
    {
     "data": {
      "text/plain": [
       "144"
      ]
     },
     "execution_count": 17,
     "metadata": {},
     "output_type": "execute_result"
    }
   ],
   "source": [
    "rm = [5,5,3,0,7,6]\n",
    "quadrado = []\n",
    "\n",
    "def form():\n",
    "    for i in rm:\n",
    "        formula = i**2\n",
    "        quadrado.append(formula)\n",
    "    \n",
    "    return formula\n",
    "\n",
    "form()\n",
    "resultado = np.sum(quadrado)\n",
    "resultado\n"
   ]
  },
  {
   "attachments": {},
   "cell_type": "markdown",
   "metadata": {},
   "source": [
    "3. Crie uma estrutura de entrada para o usuário na qual seja solicitado o seu primeiro e segundo nome. Em seguida, desenvolva uma estrutura que retorne à junção do primeiro e segundo nome em um print, com a primeira letra de cada nome em maiúscula"
   ]
  },
  {
   "cell_type": "code",
   "execution_count": 24,
   "metadata": {},
   "outputs": [
    {
     "name": "stdout",
     "output_type": "stream",
     "text": [
      "Seu nome é: Julia Luz\n"
     ]
    }
   ],
   "source": [
    "nome = input('qual é o seu nome?')\n",
    "sobrenome = input('qual é o seu sobrenome?')\n",
    "\n",
    "u1 = nome[0].upper()\n",
    "juncao1 = u1 + nome[1:]\n",
    "\n",
    "u2 = sobrenome[0].upper()\n",
    "juncao2 = u2 + sobrenome[1:]\n",
    "\n",
    "print(f'Seu nome é: {juncao1} {juncao2}')\n"
   ]
  },
  {
   "attachments": {},
   "cell_type": "markdown",
   "metadata": {},
   "source": [
    "4. Para a lista de carros Chevrolet, Fiat, Honda, Audi, Mercedez, Toyota contendo as respectivas quantidades de vendas, 2000, 1300, 2500, 900, 832, 1500, crie um dataframe com estas informações e retorne quatro prints mostrando a quantidade mínima, máxima, média e soma de vendas. "
   ]
  },
  {
   "cell_type": "code",
   "execution_count": 35,
   "metadata": {},
   "outputs": [
    {
     "data": {
      "text/html": [
       "<div>\n",
       "<style scoped>\n",
       "    .dataframe tbody tr th:only-of-type {\n",
       "        vertical-align: middle;\n",
       "    }\n",
       "\n",
       "    .dataframe tbody tr th {\n",
       "        vertical-align: top;\n",
       "    }\n",
       "\n",
       "    .dataframe thead th {\n",
       "        text-align: right;\n",
       "    }\n",
       "</style>\n",
       "<table border=\"1\" class=\"dataframe\">\n",
       "  <thead>\n",
       "    <tr style=\"text-align: right;\">\n",
       "      <th></th>\n",
       "      <th>marca</th>\n",
       "      <th>vendas</th>\n",
       "    </tr>\n",
       "  </thead>\n",
       "  <tbody>\n",
       "    <tr>\n",
       "      <th>0</th>\n",
       "      <td>Chevrolet</td>\n",
       "      <td>2000</td>\n",
       "    </tr>\n",
       "    <tr>\n",
       "      <th>1</th>\n",
       "      <td>Fiat</td>\n",
       "      <td>1300</td>\n",
       "    </tr>\n",
       "    <tr>\n",
       "      <th>2</th>\n",
       "      <td>Honda</td>\n",
       "      <td>2500</td>\n",
       "    </tr>\n",
       "    <tr>\n",
       "      <th>3</th>\n",
       "      <td>Audi</td>\n",
       "      <td>900</td>\n",
       "    </tr>\n",
       "    <tr>\n",
       "      <th>4</th>\n",
       "      <td>Mercedez</td>\n",
       "      <td>832</td>\n",
       "    </tr>\n",
       "    <tr>\n",
       "      <th>5</th>\n",
       "      <td>Toyota</td>\n",
       "      <td>1500</td>\n",
       "    </tr>\n",
       "  </tbody>\n",
       "</table>\n",
       "</div>"
      ],
      "text/plain": [
       "       marca  vendas\n",
       "0  Chevrolet    2000\n",
       "1       Fiat    1300\n",
       "2      Honda    2500\n",
       "3       Audi     900\n",
       "4   Mercedez     832\n",
       "5     Toyota    1500"
      ]
     },
     "execution_count": 35,
     "metadata": {},
     "output_type": "execute_result"
    }
   ],
   "source": [
    "carros = {\n",
    "    'marca' : ['Chevrolet','Fiat', 'Honda', 'Audi', 'Mercedez', 'Toyota'],\n",
    "    'vendas' : [2000, 1300, 2500, 900, 832, 1500]\n",
    "}\n",
    "\n",
    "carros = pd.DataFrame(carros)\n",
    "carros"
   ]
  },
  {
   "cell_type": "code",
   "execution_count": 39,
   "metadata": {},
   "outputs": [
    {
     "name": "stdout",
     "output_type": "stream",
     "text": [
      "marca     Mercedez\n",
      "vendas         832\n",
      "Name: 4, dtype: object\n",
      "marca     Honda\n",
      "vendas     2500\n",
      "Name: 2, dtype: object\n",
      "a media de vedas é: 1505.3333333333333\n",
      "a soma das vedas é: 9032\n"
     ]
    }
   ],
   "source": [
    "minimo = carros.loc[carros['vendas'].idxmin()]\n",
    "maximo = carros.loc[carros['vendas'].idxmax()]\n",
    "media = carros['vendas'].mean()\n",
    "soma = carros['vendas'].sum()\n",
    "\n",
    "print(minimo)\n",
    "print(maximo)\n",
    "print('a media de vedas é:', media)\n",
    "print('a soma das vedas é:', soma)"
   ]
  },
  {
   "attachments": {},
   "cell_type": "markdown",
   "metadata": {},
   "source": [
    "5. Armazene os dados a seguir em uma variável chamada temperatura (28, 30, 32, 29, 27, 26, 25, 26, 28, 29, 35, 31, 32, 33, 34, 33, 31, 30, 29, 28, 27, 26, 25, 26, 27, 28, 38, 31, 32, 33) e crie um Pandas Series para estes dados. Após isso, responda:\n",
    "  \n",
    "    a) Qual a temperatura média do mês.\n",
    "  \n",
    "    b) Determine o dia mais quente do mês.\n",
    "  \n",
    "    c) Encontre os dias em que a temperatura foi superior a 30 graus Celsius.\n",
    "  \n",
    "    d) Calcule o número de dias em que a temperatura foi superior à média do mês."
   ]
  },
  {
   "cell_type": "code",
   "execution_count": 49,
   "metadata": {},
   "outputs": [
    {
     "name": "stdout",
     "output_type": "stream",
     "text": [
      "a media de temperatura é:  29.633333333333333\n",
      "a temperatura maxima é:  38\n",
      "as temeraturas sueriores a 30 é:  [32, 35, 31, 32, 33, 34, 33, 31, 38, 31, 32, 33]\n"
     ]
    }
   ],
   "source": [
    "temperatura = [28, 30, 32, 29, 27, 26, 25, 26, 28, 29, 35, 31, 32, 33, 34, 33, 31, 30, 29, 28, 27, 26, 25, 26, 27, 28, 38, 31, 32, 33]\n",
    "\n",
    "temp_series = pd.Series(temperatura)\n",
    "\n",
    "media = temp_series.mean()\n",
    "maximo = temp_series.max()\n",
    "\n",
    "temperatura_maior = []\n",
    "for i in temp_series:\n",
    "    if i > 30:\n",
    "        temperatura_maior.append(i)\n",
    "\n",
    "\n",
    "\n",
    "print('a media de temperatura é: ', media)\n",
    "print('a temperatura maxima é: ', maximo)\n",
    "print('as temeraturas sueriores a 30 é: ', temperatura_maior)\n",
    "# mostrar index\n"
   ]
  },
  {
   "attachments": {},
   "cell_type": "markdown",
   "metadata": {},
   "source": [
    "6. Considere os dados históricos de precipitação pluviométrica mensal na cidade de São Paulo, representados em milímetros, para o ano de 2023: 270, 210, 160, 120, 80, 50, 40, 50, 80, 140, 190, 250 e desenvolva lógicas para resolver os seguintes problemas usando numpy unidimensional: (2,0)\n",
    "  \n",
    "    a) Calcule o total de precipitação pluviométrica ao longo do ano de 2023.\n",
    "  \n",
    "    b) Determine o mês com maior precipitação.\n",
    "  \n",
    "    c) Calcule a média de chuvas por mês.\n",
    "  \n",
    "    d) Encontre os meses em que a precipitação foi superior a 150 mm.\n",
    "  \n",
    "    e) Determine a quantidade de meses em que a precipitação foi inferior a 100 mm. "
   ]
  },
  {
   "cell_type": "code",
   "execution_count": 52,
   "metadata": {},
   "outputs": [
    {
     "name": "stdout",
     "output_type": "stream",
     "text": [
      "1640\n",
      "270\n",
      "136.66666666666666\n"
     ]
    }
   ],
   "source": [
    "pluv = [270, 210, 160, 120, 80, 50, 40, 50, 80, 140, 190, 250]\n",
    "\n",
    "soma = np.sum(pluv)\n",
    "maximo = np.max(pluv)\n",
    "media = np.mean(pluv)\n",
    "\n",
    "print(soma)\n",
    "print(maximo)\n",
    "print(media)\n"
   ]
  }
 ],
 "metadata": {
  "kernelspec": {
   "display_name": "Python 3",
   "language": "python",
   "name": "python3"
  },
  "language_info": {
   "codemirror_mode": {
    "name": "ipython",
    "version": 3
   },
   "file_extension": ".py",
   "mimetype": "text/x-python",
   "name": "python",
   "nbconvert_exporter": "python",
   "pygments_lexer": "ipython3",
   "version": "3.11.4"
  },
  "orig_nbformat": 4
 },
 "nbformat": 4,
 "nbformat_minor": 2
}
