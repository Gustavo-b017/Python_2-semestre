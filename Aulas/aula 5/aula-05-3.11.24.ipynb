{
 "cells": [
  {
   "attachments": {},
   "cell_type": "markdown",
   "metadata": {},
   "source": [
    "## exercicio 1"
   ]
  },
  {
   "cell_type": "code",
   "execution_count": 8,
   "metadata": {},
   "outputs": [
    {
     "name": "stdout",
     "output_type": "stream",
     "text": [
      "a media dos numeros é: 35.0\n"
     ]
    }
   ],
   "source": [
    "def cal_media(lista):\n",
    "    return sum(lista) / len(lista)\n",
    "\n",
    "numeros = [10,20,30,40,50,60]\n",
    "media = cal_media(numeros)\n",
    "\n",
    "print(\"a media dos numeros é:\", media)"
   ]
  },
  {
   "attachments": {},
   "cell_type": "markdown",
   "metadata": {},
   "source": [
    "## exercicio 2"
   ]
  },
  {
   "cell_type": "code",
   "execution_count": 7,
   "metadata": {},
   "outputs": [
    {
     "ename": "TypeError",
     "evalue": "'int' object is not callable",
     "output_type": "error",
     "traceback": [
      "\u001b[1;31m---------------------------------------------------------------------------\u001b[0m",
      "\u001b[1;31mTypeError\u001b[0m                                 Traceback (most recent call last)",
      "Cell \u001b[1;32mIn[7], line 6\u001b[0m\n\u001b[0;32m      2\u001b[0m \u001b[39mdef\u001b[39;00m \u001b[39mmax_num\u001b[39m(numeros):\n\u001b[0;32m      3\u001b[0m     \u001b[39mreturn\u001b[39;00m \u001b[39mmax\u001b[39m(numeros)\n\u001b[1;32m----> 6\u001b[0m resultado \u001b[39m=\u001b[39m max_num(lista)\n\u001b[0;32m      8\u001b[0m \u001b[39mprint\u001b[39m(\u001b[39m\"\u001b[39m\u001b[39mo maior numero é:\u001b[39m\u001b[39m\"\u001b[39m, resultado)\n",
      "Cell \u001b[1;32mIn[7], line 3\u001b[0m, in \u001b[0;36mmax_num\u001b[1;34m(numeros)\u001b[0m\n\u001b[0;32m      2\u001b[0m \u001b[39mdef\u001b[39;00m \u001b[39mmax_num\u001b[39m(numeros):\n\u001b[1;32m----> 3\u001b[0m     \u001b[39mreturn\u001b[39;00m \u001b[39mmax\u001b[39;49m(numeros)\n",
      "\u001b[1;31mTypeError\u001b[0m: 'int' object is not callable"
     ]
    }
   ],
   "source": [
    "lista = [1, 3, 80, 51, 5, 18]\n",
    "def max_num(numeros):\n",
    "    return max(numeros)\n",
    "\n",
    "\n",
    "resultado = max_num(lista)\n",
    "\n",
    "print(\"o maior numero é:\", resultado)"
   ]
  },
  {
   "attachments": {},
   "cell_type": "markdown",
   "metadata": {},
   "source": [
    "## exercicio 3"
   ]
  },
  {
   "cell_type": "code",
   "execution_count": 5,
   "metadata": {},
   "outputs": [
    {
     "name": "stdout",
     "output_type": "stream",
     "text": [
      "[5, 1, 34, 21]\n",
      "[-5, -14, -46]\n"
     ]
    }
   ],
   "source": [
    "lista_positiva = []\n",
    "lista_negativa = []\n",
    "\n",
    "def positivo_num(numeros):\n",
    "    for i in numeros:\n",
    "        \n",
    "        if i > 0:\n",
    "            lista_positiva.append(i)\n",
    "        \n",
    "        else: \n",
    "            lista_negativa.append(i)\n",
    "    \n",
    "    return numeros\n",
    "\n",
    "lista = [5, 1,-5,-14,34,21,-46]        \n",
    "\n",
    "resultado = positivo_num(lista)\n",
    "\n",
    "print(lista_positiva)\n",
    "print(lista_negativa)\n"
   ]
  },
  {
   "cell_type": "code",
   "execution_count": 4,
   "metadata": {},
   "outputs": [
    {
     "name": "stdout",
     "output_type": "stream",
     "text": [
      "[10, 30, 50, 7, 8]\n",
      "[-20, -40, -3]\n"
     ]
    }
   ],
   "source": [
    "def positivo_negativo(lista):\n",
    "    positivo = [num for num in lista if num >0]\n",
    "    negativo = [num for num in lista if num <0]\n",
    "    return positivo, negativo\n",
    "\n",
    "numeros = [10, -20, 30, -40,50, -3, 7, 8]\n",
    "\n",
    "postivo, negativo = positivo_negativo(numeros)\n",
    "print(postivo)\n",
    "print(negativo)"
   ]
  },
  {
   "attachments": {},
   "cell_type": "markdown",
   "metadata": {},
   "source": [
    "## exercicio 4"
   ]
  },
  {
   "cell_type": "code",
   "execution_count": 3,
   "metadata": {},
   "outputs": [
    {
     "name": "stdout",
     "output_type": "stream",
     "text": [
      "a soma da lista é: 162\n",
      "a media dos numeros é: 18.0\n"
     ]
    }
   ],
   "source": [
    "lista = [10,2,7,9,10,22,5,9,88]\n",
    "\n",
    "def soma_media(num):\n",
    "    soma = sum(num)\n",
    "    media = sum(num) / len(num)\n",
    "\n",
    "    return soma, media\n",
    "\n",
    "soma, media = soma_media(lista)\n",
    "print(\"a soma da lista é:\", soma)\n",
    "print(\"a media dos numeros é:\",media)\n"
   ]
  },
  {
   "cell_type": "code",
   "execution_count": 2,
   "metadata": {},
   "outputs": [
    {
     "name": "stdout",
     "output_type": "stream",
     "text": [
      "o maior numero da lista é: 88\n",
      "o menor numero da lista é: 2\n"
     ]
    }
   ],
   "source": [
    "def min_max(num):\n",
    "    maximo = max(num)\n",
    "    minimo = min(num)\n",
    "    return maximo, minimo\n",
    "\n",
    "lista = [10,2,7,9,10,22,5,9,88]\n",
    "\n",
    "max, min = min_max(lista)\n",
    "\n",
    "print(\"o maior numero da lista é:\", max)\n",
    "print(\"o menor numero da lista é:\",min)"
   ]
  },
  {
   "cell_type": "code",
   "execution_count": 1,
   "metadata": {},
   "outputs": [
    {
     "name": "stdout",
     "output_type": "stream",
     "text": [
      "a soma da lista é: 162\n",
      "a media dos numeros é: 18.0\n",
      "o maior numero da lista é: 88\n",
      "o menor numero da lista é: 2\n"
     ]
    }
   ],
   "source": [
    "def todos(numero):\n",
    "    soma = sum(numero)\n",
    "    media = sum(numero) / len(numero)\n",
    "    maximo = max(numero)\n",
    "    minimo = min(numero)\n",
    "\n",
    "    return soma, media, maximo, minimo\n",
    "\n",
    "lista = [10,2,7,9,10,22,5,9,88]\n",
    "\n",
    "soma, media, maximo, minimo = todos(lista)\n",
    "\n",
    "print(\"a soma da lista é:\", soma)\n",
    "print(\"a media dos numeros é:\",media)\n",
    "print(\"o maior numero da lista é:\", maximo)\n",
    "print(\"o menor numero da lista é:\",minimo)"
   ]
  },
  {
   "cell_type": "code",
   "execution_count": 2,
   "metadata": {},
   "outputs": [
    {
     "name": "stdout",
     "output_type": "stream",
     "text": [
      "8668\n"
     ]
    }
   ],
   "source": [
    "def quadrado_soma(numeros):\n",
    "    return sum(num**2 for num in numeros)\n",
    "\n",
    "lista = [10,2,7,9,10,22,5,9,88]\n",
    "\n",
    "resultado = quadrado_soma(lista)\n",
    "\n",
    "print(resultado)   "
   ]
  },
  {
   "cell_type": "code",
   "execution_count": 4,
   "metadata": {},
   "outputs": [
    {
     "name": "stdout",
     "output_type": "stream",
     "text": [
      "0\n"
     ]
    }
   ],
   "source": [
    "def elementos(num, elemento):\n",
    "    return num.count(elemento)\n",
    "\n",
    "lista = [10,2,7,9,10,22,5,9,88]\n",
    "elemento = 3\n",
    "ocorrencia = elementos(lista, elemento)\n",
    "\n",
    "print(ocorrencia)"
   ]
  },
  {
   "cell_type": "code",
   "execution_count": 5,
   "metadata": {},
   "outputs": [
    {
     "name": "stdout",
     "output_type": "stream",
     "text": [
      "a lista imvertida e: [5, 4, 3, 2, 1]\n"
     ]
    }
   ],
   "source": [
    "def inverter(lista):\n",
    "    return lista[::-1]\n",
    "\n",
    "numeros = [1,2,3,4,5]\n",
    "lista_invertida = inverter(numeros)\n",
    "print(\"a lista imvertida e:\", lista_invertida)"
   ]
  },
  {
   "cell_type": "code",
   "execution_count": 7,
   "metadata": {},
   "outputs": [
    {
     "name": "stdout",
     "output_type": "stream",
     "text": [
      "a lista esta ordenada? True\n"
     ]
    }
   ],
   "source": [
    "# verifica se a lista esta crescente\n",
    "def crescente(lista):\n",
    "    return lista == sorted(lista)\n",
    "\n",
    "numeros = [1,2,3,4,5]\n",
    "esta_ordenada = crescente(numeros)\n",
    "print(\"a lista esta ordenada?\", esta_ordenada)"
   ]
  },
  {
   "cell_type": "code",
   "execution_count": 9,
   "metadata": {},
   "outputs": [
    {
     "name": "stdout",
     "output_type": "stream",
     "text": [
      "lista sem elementos duplicados [1, 2, 3, 4, 5]\n"
     ]
    }
   ],
   "source": [
    "def remover_duplicado(lista):\n",
    "    return list(set(lista))\n",
    "\n",
    "numeros = [1,2,3,4,5,1,2,3]\n",
    "sem_duplicados = remover_duplicado(numeros)\n",
    "print(\"lista sem elementos duplicados\", sem_duplicados)"
   ]
  }
 ],
 "metadata": {
  "kernelspec": {
   "display_name": "Python 3",
   "language": "python",
   "name": "python3"
  },
  "language_info": {
   "codemirror_mode": {
    "name": "ipython",
    "version": 3
   },
   "file_extension": ".py",
   "mimetype": "text/x-python",
   "name": "python",
   "nbconvert_exporter": "python",
   "pygments_lexer": "ipython3",
   "version": "3.11.4"
  },
  "orig_nbformat": 4
 },
 "nbformat": 4,
 "nbformat_minor": 2
}
