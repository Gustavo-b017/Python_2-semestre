{
 "cells": [
  {
   "cell_type": "code",
   "execution_count": 1,
   "metadata": {},
   "outputs": [],
   "source": [
    "import pandas as pd"
   ]
  },
  {
   "cell_type": "code",
   "execution_count": 2,
   "metadata": {},
   "outputs": [],
   "source": [
    "import json\n",
    "\n",
    "data = {\n",
    "    'nome': 'joao',\n",
    "    'idade': 10,\n",
    "    'cidade': 'sao paulo'\n",
    "}\n",
    "\n",
    "with open('dados.json', 'w') as file:\n",
    "    json.dump(data, file)"
   ]
  },
  {
   "cell_type": "code",
   "execution_count": 3,
   "metadata": {},
   "outputs": [
    {
     "name": "stdout",
     "output_type": "stream",
     "text": [
      "dados no formato json\n",
      "{'nome': 'joao', 'idade': 10, 'cidade': 'sao paulo'}\n"
     ]
    }
   ],
   "source": [
    "# leitura dos dados\n",
    "\n",
    "with open('dados.json', 'r') as json_file:\n",
    "    dados_json = json.load(json_file)\n",
    "\n",
    "print('dados no formato json')\n",
    "print(dados_json)"
   ]
  },
  {
   "cell_type": "code",
   "execution_count": 4,
   "metadata": {},
   "outputs": [
    {
     "name": "stdout",
     "output_type": "stream",
     "text": [
      "Requirement already satisfied: openpyxl in c:\\python311\\lib\\site-packages (3.1.2)\n",
      "Requirement already satisfied: et-xmlfile in c:\\python311\\lib\\site-packages (from openpyxl) (1.1.0)\n",
      "Note: you may need to restart the kernel to use updated packages.\n"
     ]
    },
    {
     "name": "stderr",
     "output_type": "stream",
     "text": [
      "\n",
      "[notice] A new release of pip is available: 23.1.2 -> 24.0\n",
      "[notice] To update, run: python.exe -m pip install --upgrade pip\n"
     ]
    }
   ],
   "source": [
    "pip install openpyxl"
   ]
  },
  {
   "cell_type": "code",
   "execution_count": 5,
   "metadata": {},
   "outputs": [],
   "source": [
    "# escrevendo e lendo os dados em exel\n",
    "\n",
    "data = {\n",
    "    'nome': 'joao',\n",
    "    'idade': 10,\n",
    "    'cidade': 'sao paulo'\n",
    "}\n",
    "\n",
    "df = pd.DataFrame(data, index=[0])\n",
    "\n",
    "df.to_excel('dados_excel.xlsx', index=False)"
   ]
  },
  {
   "cell_type": "code",
   "execution_count": 6,
   "metadata": {},
   "outputs": [],
   "source": [
    "df.to_csv('dados_csv.csv', index=False)"
   ]
  },
  {
   "cell_type": "code",
   "execution_count": 7,
   "metadata": {},
   "outputs": [
    {
     "data": {
      "text/html": [
       "<div>\n",
       "<style scoped>\n",
       "    .dataframe tbody tr th:only-of-type {\n",
       "        vertical-align: middle;\n",
       "    }\n",
       "\n",
       "    .dataframe tbody tr th {\n",
       "        vertical-align: top;\n",
       "    }\n",
       "\n",
       "    .dataframe thead th {\n",
       "        text-align: right;\n",
       "    }\n",
       "</style>\n",
       "<table border=\"1\" class=\"dataframe\">\n",
       "  <thead>\n",
       "    <tr style=\"text-align: right;\">\n",
       "      <th></th>\n",
       "      <th>nome</th>\n",
       "      <th>idade</th>\n",
       "      <th>cidade</th>\n",
       "    </tr>\n",
       "  </thead>\n",
       "  <tbody>\n",
       "    <tr>\n",
       "      <th>0</th>\n",
       "      <td>joao</td>\n",
       "      <td>10</td>\n",
       "      <td>sao paulo</td>\n",
       "    </tr>\n",
       "  </tbody>\n",
       "</table>\n",
       "</div>"
      ],
      "text/plain": [
       "   nome  idade     cidade\n",
       "0  joao     10  sao paulo"
      ]
     },
     "execution_count": 7,
     "metadata": {},
     "output_type": "execute_result"
    }
   ],
   "source": [
    "# lendo os arquivos\n",
    "\n",
    "df_exel = pd.read_excel('dados_excel.xlsx')\n",
    "df_exel"
   ]
  },
  {
   "cell_type": "code",
   "execution_count": 8,
   "metadata": {},
   "outputs": [
    {
     "data": {
      "text/html": [
       "<div>\n",
       "<style scoped>\n",
       "    .dataframe tbody tr th:only-of-type {\n",
       "        vertical-align: middle;\n",
       "    }\n",
       "\n",
       "    .dataframe tbody tr th {\n",
       "        vertical-align: top;\n",
       "    }\n",
       "\n",
       "    .dataframe thead th {\n",
       "        text-align: right;\n",
       "    }\n",
       "</style>\n",
       "<table border=\"1\" class=\"dataframe\">\n",
       "  <thead>\n",
       "    <tr style=\"text-align: right;\">\n",
       "      <th></th>\n",
       "      <th>nome</th>\n",
       "      <th>idade</th>\n",
       "      <th>cidade</th>\n",
       "    </tr>\n",
       "  </thead>\n",
       "  <tbody>\n",
       "    <tr>\n",
       "      <th>0</th>\n",
       "      <td>joao</td>\n",
       "      <td>10</td>\n",
       "      <td>sao paulo</td>\n",
       "    </tr>\n",
       "  </tbody>\n",
       "</table>\n",
       "</div>"
      ],
      "text/plain": [
       "   nome  idade     cidade\n",
       "0  joao     10  sao paulo"
      ]
     },
     "execution_count": 8,
     "metadata": {},
     "output_type": "execute_result"
    }
   ],
   "source": [
    "# lendo os arquivos\n",
    "\n",
    "df_csv = pd.read_csv('dados_csv.csv')\n",
    "df_csv"
   ]
  },
  {
   "cell_type": "code",
   "execution_count": 9,
   "metadata": {},
   "outputs": [
    {
     "data": {
      "text/plain": [
       "{'nome': 'joao', 'idade': 10, 'cidade': 'sao paulo'}"
      ]
     },
     "execution_count": 9,
     "metadata": {},
     "output_type": "execute_result"
    }
   ],
   "source": [
    "# lendo os arquivos\n",
    "\n",
    "with open('dados.json', 'r') as json_file:\n",
    "    df_json = json.load(json_file)\n",
    "\n",
    "df_json"
   ]
  },
  {
   "cell_type": "code",
   "execution_count": 10,
   "metadata": {},
   "outputs": [],
   "source": [
    "dados = {\n",
    "    'nome': ['joao', 'maria', 'pedro'],\n",
    "    'idade': [30, 25, 35],\n",
    "    'cidade': ['sao paulo', 'rio de janeiro', 'belo horizonte'],\n",
    "    'profissao': ['engenheiro', 'professora','medico']\n",
    "}\n",
    "\n",
    "df = pd.DataFrame(dados)"
   ]
  },
  {
   "cell_type": "code",
   "execution_count": 11,
   "metadata": {},
   "outputs": [],
   "source": [
    "with open('dados2.json', 'w') as file:\n",
    "    json.dump(dados, file)\n",
    "\n",
    "df2_csv = df.to_csv('dados2_csv.csv')\n",
    "df2_exel = df.to_excel('dados2_exel.xlsx')"
   ]
  },
  {
   "cell_type": "code",
   "execution_count": 12,
   "metadata": {},
   "outputs": [],
   "source": [
    "df2_csv = pd.read_csv('dados2_csv.csv')\n",
    "df2_exel = pd.read_excel('dados2_exel.xlsx')\n",
    "\n",
    "with open('dados2.json', 'r') as json2_file:\n",
    "    df2_json = json.load(json2_file)\n"
   ]
  },
  {
   "cell_type": "code",
   "execution_count": 13,
   "metadata": {},
   "outputs": [
    {
     "name": "stdout",
     "output_type": "stream",
     "text": [
      "dados por exel\n",
      "    Unnamed: 0   nome  idade          cidade   profissao\n",
      "0           0   joao     30       sao paulo  engenheiro\n",
      "1           1  maria     25  rio de janeiro  professora\n",
      "2           2  pedro     35  belo horizonte      medico\n",
      "\n",
      "\n",
      "dados por csv\n",
      "    Unnamed: 0   nome  idade          cidade   profissao\n",
      "0           0   joao     30       sao paulo  engenheiro\n",
      "1           1  maria     25  rio de janeiro  professora\n",
      "2           2  pedro     35  belo horizonte      medico\n",
      "\n",
      "\n",
      "dados por json\n",
      " {'nome': ['joao', 'maria', 'pedro'], 'idade': [30, 25, 35], 'cidade': ['sao paulo', 'rio de janeiro', 'belo horizonte'], 'profissao': ['engenheiro', 'professora', 'medico']}\n"
     ]
    }
   ],
   "source": [
    "print('dados por exel\\n', df2_exel)\n",
    "print('\\n\\ndados por csv\\n', df2_csv)\n",
    "print('\\n\\ndados por json\\n', df2_json)"
   ]
  },
  {
   "cell_type": "code",
   "execution_count": 14,
   "metadata": {},
   "outputs": [
    {
     "data": {
      "text/html": [
       "<div>\n",
       "<style scoped>\n",
       "    .dataframe tbody tr th:only-of-type {\n",
       "        vertical-align: middle;\n",
       "    }\n",
       "\n",
       "    .dataframe tbody tr th {\n",
       "        vertical-align: top;\n",
       "    }\n",
       "\n",
       "    .dataframe thead th {\n",
       "        text-align: right;\n",
       "    }\n",
       "</style>\n",
       "<table border=\"1\" class=\"dataframe\">\n",
       "  <thead>\n",
       "    <tr style=\"text-align: right;\">\n",
       "      <th></th>\n",
       "      <th>key</th>\n",
       "      <th>A</th>\n",
       "      <th>B</th>\n",
       "      <th>C</th>\n",
       "      <th>D</th>\n",
       "    </tr>\n",
       "  </thead>\n",
       "  <tbody>\n",
       "    <tr>\n",
       "      <th>0</th>\n",
       "      <td>k0</td>\n",
       "      <td>A0</td>\n",
       "      <td>B0</td>\n",
       "      <td>C0</td>\n",
       "      <td>D0</td>\n",
       "    </tr>\n",
       "    <tr>\n",
       "      <th>1</th>\n",
       "      <td>k1</td>\n",
       "      <td>A1</td>\n",
       "      <td>B1</td>\n",
       "      <td>C1</td>\n",
       "      <td>D1</td>\n",
       "    </tr>\n",
       "    <tr>\n",
       "      <th>2</th>\n",
       "      <td>k2</td>\n",
       "      <td>A2</td>\n",
       "      <td>B2</td>\n",
       "      <td>C2</td>\n",
       "      <td>D2</td>\n",
       "    </tr>\n",
       "    <tr>\n",
       "      <th>3</th>\n",
       "      <td>k3</td>\n",
       "      <td>A3</td>\n",
       "      <td>B3</td>\n",
       "      <td>C3</td>\n",
       "      <td>D3</td>\n",
       "    </tr>\n",
       "  </tbody>\n",
       "</table>\n",
       "</div>"
      ],
      "text/plain": [
       "  key   A   B   C   D\n",
       "0  k0  A0  B0  C0  D0\n",
       "1  k1  A1  B1  C1  D1\n",
       "2  k2  A2  B2  C2  D2\n",
       "3  k3  A3  B3  C3  D3"
      ]
     },
     "execution_count": 14,
     "metadata": {},
     "output_type": "execute_result"
    }
   ],
   "source": [
    "# merge e concat de dados\n",
    "\n",
    "left = pd.DataFrame({\n",
    "    'key': ['k0','k1','k2','k3'],\n",
    "    'A': ['A0','A1','A2','A3'],\n",
    "    'B': ['B0','B1','B2','B3']\n",
    "})\n",
    "\n",
    "right = pd.DataFrame({\n",
    "    'key': ['k0','k1','k2','k3'],\n",
    "    'C': ['C0','C1','C2','C3'],\n",
    "    'D': ['D0','D1','D2','D3']\n",
    "})\n",
    "\n",
    "df_merge = pd.merge(left, right, on='key')\n",
    "df_merge"
   ]
  },
  {
   "cell_type": "code",
   "execution_count": 15,
   "metadata": {},
   "outputs": [
    {
     "data": {
      "text/html": [
       "<div>\n",
       "<style scoped>\n",
       "    .dataframe tbody tr th:only-of-type {\n",
       "        vertical-align: middle;\n",
       "    }\n",
       "\n",
       "    .dataframe tbody tr th {\n",
       "        vertical-align: top;\n",
       "    }\n",
       "\n",
       "    .dataframe thead th {\n",
       "        text-align: right;\n",
       "    }\n",
       "</style>\n",
       "<table border=\"1\" class=\"dataframe\">\n",
       "  <thead>\n",
       "    <tr style=\"text-align: right;\">\n",
       "      <th></th>\n",
       "      <th>key</th>\n",
       "      <th>A</th>\n",
       "      <th>B</th>\n",
       "      <th>C</th>\n",
       "      <th>D</th>\n",
       "    </tr>\n",
       "  </thead>\n",
       "  <tbody>\n",
       "    <tr>\n",
       "      <th>0</th>\n",
       "      <td>k0</td>\n",
       "      <td>A0</td>\n",
       "      <td>B0</td>\n",
       "      <td>NaN</td>\n",
       "      <td>NaN</td>\n",
       "    </tr>\n",
       "    <tr>\n",
       "      <th>1</th>\n",
       "      <td>k1</td>\n",
       "      <td>A1</td>\n",
       "      <td>B1</td>\n",
       "      <td>NaN</td>\n",
       "      <td>NaN</td>\n",
       "    </tr>\n",
       "    <tr>\n",
       "      <th>2</th>\n",
       "      <td>k2</td>\n",
       "      <td>A2</td>\n",
       "      <td>B2</td>\n",
       "      <td>NaN</td>\n",
       "      <td>NaN</td>\n",
       "    </tr>\n",
       "    <tr>\n",
       "      <th>3</th>\n",
       "      <td>k3</td>\n",
       "      <td>A3</td>\n",
       "      <td>B3</td>\n",
       "      <td>NaN</td>\n",
       "      <td>NaN</td>\n",
       "    </tr>\n",
       "    <tr>\n",
       "      <th>0</th>\n",
       "      <td>k0</td>\n",
       "      <td>NaN</td>\n",
       "      <td>NaN</td>\n",
       "      <td>C0</td>\n",
       "      <td>D0</td>\n",
       "    </tr>\n",
       "    <tr>\n",
       "      <th>1</th>\n",
       "      <td>k1</td>\n",
       "      <td>NaN</td>\n",
       "      <td>NaN</td>\n",
       "      <td>C1</td>\n",
       "      <td>D1</td>\n",
       "    </tr>\n",
       "    <tr>\n",
       "      <th>2</th>\n",
       "      <td>k2</td>\n",
       "      <td>NaN</td>\n",
       "      <td>NaN</td>\n",
       "      <td>C2</td>\n",
       "      <td>D2</td>\n",
       "    </tr>\n",
       "    <tr>\n",
       "      <th>3</th>\n",
       "      <td>k3</td>\n",
       "      <td>NaN</td>\n",
       "      <td>NaN</td>\n",
       "      <td>C3</td>\n",
       "      <td>D3</td>\n",
       "    </tr>\n",
       "  </tbody>\n",
       "</table>\n",
       "</div>"
      ],
      "text/plain": [
       "  key    A    B    C    D\n",
       "0  k0   A0   B0  NaN  NaN\n",
       "1  k1   A1   B1  NaN  NaN\n",
       "2  k2   A2   B2  NaN  NaN\n",
       "3  k3   A3   B3  NaN  NaN\n",
       "0  k0  NaN  NaN   C0   D0\n",
       "1  k1  NaN  NaN   C1   D1\n",
       "2  k2  NaN  NaN   C2   D2\n",
       "3  k3  NaN  NaN   C3   D3"
      ]
     },
     "execution_count": 15,
     "metadata": {},
     "output_type": "execute_result"
    }
   ],
   "source": [
    "# concatenando dados\n",
    "\n",
    "df_concat = pd.concat([left, right])\n",
    "df_concat"
   ]
  },
  {
   "cell_type": "code",
   "execution_count": 16,
   "metadata": {},
   "outputs": [
    {
     "data": {
      "text/html": [
       "<div>\n",
       "<style scoped>\n",
       "    .dataframe tbody tr th:only-of-type {\n",
       "        vertical-align: middle;\n",
       "    }\n",
       "\n",
       "    .dataframe tbody tr th {\n",
       "        vertical-align: top;\n",
       "    }\n",
       "\n",
       "    .dataframe thead th {\n",
       "        text-align: right;\n",
       "    }\n",
       "</style>\n",
       "<table border=\"1\" class=\"dataframe\">\n",
       "  <thead>\n",
       "    <tr style=\"text-align: right;\">\n",
       "      <th></th>\n",
       "      <th>index</th>\n",
       "      <th>key</th>\n",
       "      <th>A</th>\n",
       "      <th>B</th>\n",
       "    </tr>\n",
       "  </thead>\n",
       "  <tbody>\n",
       "    <tr>\n",
       "      <th>0</th>\n",
       "      <td>0</td>\n",
       "      <td>k0</td>\n",
       "      <td>A0</td>\n",
       "      <td>B0</td>\n",
       "    </tr>\n",
       "    <tr>\n",
       "      <th>1</th>\n",
       "      <td>1</td>\n",
       "      <td>k1</td>\n",
       "      <td>A1</td>\n",
       "      <td>B1</td>\n",
       "    </tr>\n",
       "    <tr>\n",
       "      <th>2</th>\n",
       "      <td>2</td>\n",
       "      <td>k2</td>\n",
       "      <td>A2</td>\n",
       "      <td>B2</td>\n",
       "    </tr>\n",
       "    <tr>\n",
       "      <th>3</th>\n",
       "      <td>3</td>\n",
       "      <td>k3</td>\n",
       "      <td>A3</td>\n",
       "      <td>B3</td>\n",
       "    </tr>\n",
       "    <tr>\n",
       "      <th>4</th>\n",
       "      <td>0</td>\n",
       "      <td>k0</td>\n",
       "      <td>C0</td>\n",
       "      <td>D0</td>\n",
       "    </tr>\n",
       "    <tr>\n",
       "      <th>5</th>\n",
       "      <td>1</td>\n",
       "      <td>k1</td>\n",
       "      <td>C1</td>\n",
       "      <td>D1</td>\n",
       "    </tr>\n",
       "    <tr>\n",
       "      <th>6</th>\n",
       "      <td>2</td>\n",
       "      <td>k2</td>\n",
       "      <td>C2</td>\n",
       "      <td>D2</td>\n",
       "    </tr>\n",
       "    <tr>\n",
       "      <th>7</th>\n",
       "      <td>3</td>\n",
       "      <td>k3</td>\n",
       "      <td>C3</td>\n",
       "      <td>D3</td>\n",
       "    </tr>\n",
       "  </tbody>\n",
       "</table>\n",
       "</div>"
      ],
      "text/plain": [
       "   index key   A   B\n",
       "0      0  k0  A0  B0\n",
       "1      1  k1  A1  B1\n",
       "2      2  k2  A2  B2\n",
       "3      3  k3  A3  B3\n",
       "4      0  k0  C0  D0\n",
       "5      1  k1  C1  D1\n",
       "6      2  k2  C2  D2\n",
       "7      3  k3  C3  D3"
      ]
     },
     "execution_count": 16,
     "metadata": {},
     "output_type": "execute_result"
    }
   ],
   "source": [
    "# merge e concat de dados\n",
    "\n",
    "left = pd.DataFrame({\n",
    "    'key': ['k0','k1','k2','k3'],\n",
    "    'A': ['A0','A1','A2','A3'],\n",
    "    'B': ['B0','B1','B2','B3']\n",
    "})\n",
    "\n",
    "right = pd.DataFrame({\n",
    "    'key': ['k0','k1','k2','k3'],\n",
    "    'A': ['C0','C1','C2','C3'],\n",
    "    'B': ['D0','D1','D2','D3']\n",
    "})\n",
    "\n",
    "df_concat = pd.concat([left, right], axis=0).reset_index()\n",
    "df_concat"
   ]
  },
  {
   "cell_type": "code",
   "execution_count": 22,
   "metadata": {},
   "outputs": [],
   "source": [
    "dados_json = {\n",
    "    'nome': ['joao', 'maria', 'pedro'],\n",
    "    'idade': [30, 25, 35],\n",
    "    'cidade': ['sao paulo', 'rio de janeiro', 'belo horizonte'],\n",
    "    'profissao': ['engenheiro', 'professora','medico']\n",
    "}\n",
    "\n",
    "dados_exel = {\n",
    "    'nome': ['joao', 'maria', 'pedro'],\n",
    "    'UF': ['SP', 'Rj', 'BH'],\n",
    "}\n",
    "\n",
    "dados_csv = {\n",
    "    'nome': ['joao', 'maria', 'pedro'],\n",
    "    'idade': [30, 25, 35],\n",
    "    'estado civil': ['solteiro','casado','casado']\n",
    "}\n",
    "\n",
    "df_exel = pd.DataFrame(dados_exel)\n",
    "df_csv = pd.DataFrame(dados_csv)\n",
    "\n"
   ]
  },
  {
   "cell_type": "code",
   "execution_count": 65,
   "metadata": {},
   "outputs": [],
   "source": [
    "\n",
    "with open('tarefa.json', 'w') as file:\n",
    "    json.dump(dados_json, file)\n",
    "\n",
    "df3_csv = df_csv.to_csv('tarefa_csv.csv', index=False)\n",
    "df3_exel = df_exel.to_excel('tarefa_exel.xlsx', index=False)\n"
   ]
  },
  {
   "cell_type": "code",
   "execution_count": 66,
   "metadata": {},
   "outputs": [
    {
     "ename": "TypeError",
     "evalue": "read_json() got an unexpected keyword argument 'index'",
     "output_type": "error",
     "traceback": [
      "\u001b[1;31m---------------------------------------------------------------------------\u001b[0m",
      "\u001b[1;31mTypeError\u001b[0m                                 Traceback (most recent call last)",
      "Cell \u001b[1;32mIn[66], line 6\u001b[0m\n\u001b[0;32m      4\u001b[0m df3_csv \u001b[39m=\u001b[39m pd\u001b[39m.\u001b[39mread_csv(\u001b[39m'\u001b[39m\u001b[39mtarefa_csv.csv\u001b[39m\u001b[39m'\u001b[39m)\n\u001b[0;32m      5\u001b[0m df3_exel \u001b[39m=\u001b[39m pd\u001b[39m.\u001b[39mread_excel(\u001b[39m'\u001b[39m\u001b[39mtarefa_exel.xlsx\u001b[39m\u001b[39m'\u001b[39m)\n\u001b[1;32m----> 6\u001b[0m df3_json \u001b[39m=\u001b[39m pd\u001b[39m.\u001b[39;49mread_json(\u001b[39m'\u001b[39;49m\u001b[39mtarefa.json\u001b[39;49m\u001b[39m'\u001b[39;49m, index\u001b[39m=\u001b[39;49m\u001b[39mFalse\u001b[39;49;00m)\n",
      "\u001b[1;31mTypeError\u001b[0m: read_json() got an unexpected keyword argument 'index'"
     ]
    }
   ],
   "source": [
    "with open('tarefa.json', 'r') as json_tare:\n",
    "    tarefa_json = json.load(json_tare)\n",
    "\n",
    "df3_csv = pd.read_csv('tarefa_csv.csv')\n",
    "df3_exel = pd.read_excel('tarefa_exel.xlsx')\n",
    "df3_json = pd.read_json('tarefa.json')"
   ]
  },
  {
   "cell_type": "code",
   "execution_count": 68,
   "metadata": {},
   "outputs": [
    {
     "data": {
      "text/html": [
       "<div>\n",
       "<style scoped>\n",
       "    .dataframe tbody tr th:only-of-type {\n",
       "        vertical-align: middle;\n",
       "    }\n",
       "\n",
       "    .dataframe tbody tr th {\n",
       "        vertical-align: top;\n",
       "    }\n",
       "\n",
       "    .dataframe thead th {\n",
       "        text-align: right;\n",
       "    }\n",
       "</style>\n",
       "<table border=\"1\" class=\"dataframe\">\n",
       "  <thead>\n",
       "    <tr style=\"text-align: right;\">\n",
       "      <th></th>\n",
       "      <th>nome</th>\n",
       "      <th>idade_x</th>\n",
       "      <th>estado civil</th>\n",
       "      <th>UF</th>\n",
       "      <th>idade_y</th>\n",
       "      <th>cidade</th>\n",
       "      <th>profissao</th>\n",
       "    </tr>\n",
       "  </thead>\n",
       "  <tbody>\n",
       "    <tr>\n",
       "      <th>0</th>\n",
       "      <td>joao</td>\n",
       "      <td>30</td>\n",
       "      <td>solteiro</td>\n",
       "      <td>SP</td>\n",
       "      <td>30</td>\n",
       "      <td>sao paulo</td>\n",
       "      <td>engenheiro</td>\n",
       "    </tr>\n",
       "    <tr>\n",
       "      <th>1</th>\n",
       "      <td>maria</td>\n",
       "      <td>25</td>\n",
       "      <td>casado</td>\n",
       "      <td>Rj</td>\n",
       "      <td>25</td>\n",
       "      <td>rio de janeiro</td>\n",
       "      <td>professora</td>\n",
       "    </tr>\n",
       "    <tr>\n",
       "      <th>2</th>\n",
       "      <td>pedro</td>\n",
       "      <td>35</td>\n",
       "      <td>casado</td>\n",
       "      <td>BH</td>\n",
       "      <td>35</td>\n",
       "      <td>belo horizonte</td>\n",
       "      <td>medico</td>\n",
       "    </tr>\n",
       "  </tbody>\n",
       "</table>\n",
       "</div>"
      ],
      "text/plain": [
       "    nome  idade_x estado civil  UF  idade_y          cidade   profissao\n",
       "0   joao       30     solteiro  SP       30       sao paulo  engenheiro\n",
       "1  maria       25       casado  Rj       25  rio de janeiro  professora\n",
       "2  pedro       35       casado  BH       35  belo horizonte      medico"
      ]
     },
     "execution_count": 68,
     "metadata": {},
     "output_type": "execute_result"
    }
   ],
   "source": [
    "df_merge = pd.merge(df3_csv, df3_exel, on='nome').merge(df3_json, on='nome')\n",
    "df_merge"
   ]
  }
 ],
 "metadata": {
  "kernelspec": {
   "display_name": "Python 3",
   "language": "python",
   "name": "python3"
  },
  "language_info": {
   "codemirror_mode": {
    "name": "ipython",
    "version": 3
   },
   "file_extension": ".py",
   "mimetype": "text/x-python",
   "name": "python",
   "nbconvert_exporter": "python",
   "pygments_lexer": "ipython3",
   "version": "3.11.4"
  },
  "orig_nbformat": 4
 },
 "nbformat": 4,
 "nbformat_minor": 2
}
