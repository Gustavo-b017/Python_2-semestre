{
 "cells": [
  {
   "cell_type": "code",
   "execution_count": 1,
   "metadata": {},
   "outputs": [],
   "source": [
    "import pandas as pd"
   ]
  },
  {
   "cell_type": "code",
   "execution_count": 2,
   "metadata": {},
   "outputs": [],
   "source": [
    "import json\n",
    "\n",
    "data = {\n",
    "    'nome': 'joao',\n",
    "    'idade': 10,\n",
    "    'cidade': 'sao paulo'\n",
    "}\n",
    "\n",
    "with open('dados.json', 'w') as file:\n",
    "    json.dump(data, file)"
   ]
  },
  {
   "cell_type": "code",
   "execution_count": 3,
   "metadata": {},
   "outputs": [
    {
     "name": "stdout",
     "output_type": "stream",
     "text": [
      "dados no formato json\n",
      "{'nome': 'joao', 'idade': 10, 'cidade': 'sao paulo'}\n"
     ]
    }
   ],
   "source": [
    "# leitura dos dados\n",
    "\n",
    "with open('dados.json', 'r') as json_file:\n",
    "    dados_json = json.load(json_file)\n",
    "\n",
    "print('dados no formato json')\n",
    "print(dados_json)"
   ]
  },
  {
   "cell_type": "code",
   "execution_count": 7,
   "metadata": {},
   "outputs": [
    {
     "name": "stdout",
     "output_type": "stream",
     "text": [
      "Collecting openpyxl\n",
      "  Downloading openpyxl-3.1.2-py2.py3-none-any.whl (249 kB)\n",
      "                                              0.0/250.0 kB ? eta -:--:--\n",
      "     -------------------------------------- 250.0/250.0 kB 7.7 MB/s eta 0:00:00\n",
      "Collecting et-xmlfile (from openpyxl)\n",
      "  Downloading et_xmlfile-1.1.0-py3-none-any.whl (4.7 kB)\n",
      "Installing collected packages: et-xmlfile, openpyxl\n",
      "Successfully installed et-xmlfile-1.1.0 openpyxl-3.1.2\n",
      "Note: you may need to restart the kernel to use updated packages.\n"
     ]
    },
    {
     "name": "stderr",
     "output_type": "stream",
     "text": [
      "\n",
      "[notice] A new release of pip is available: 23.1.2 -> 24.0\n",
      "[notice] To update, run: python.exe -m pip install --upgrade pip\n"
     ]
    }
   ],
   "source": [
    "pip install openpyxl"
   ]
  },
  {
   "cell_type": "code",
   "execution_count": 8,
   "metadata": {},
   "outputs": [],
   "source": [
    "# escrevendo e lendo os dados em exel\n",
    "\n",
    "data = {\n",
    "    'nome': 'joao',\n",
    "    'idade': 10,\n",
    "    'cidade': 'sao paulo'\n",
    "}\n",
    "\n",
    "df = pd.DataFrame(data, index=[0])\n",
    "\n",
    "df.to_excel('dados_excel.xlsx', index=False)"
   ]
  },
  {
   "cell_type": "code",
   "execution_count": 9,
   "metadata": {},
   "outputs": [],
   "source": [
    "df.to_csv('dados_csv.csv', index=False)"
   ]
  },
  {
   "cell_type": "code",
   "execution_count": 10,
   "metadata": {},
   "outputs": [
    {
     "data": {
      "text/html": [
       "<div>\n",
       "<style scoped>\n",
       "    .dataframe tbody tr th:only-of-type {\n",
       "        vertical-align: middle;\n",
       "    }\n",
       "\n",
       "    .dataframe tbody tr th {\n",
       "        vertical-align: top;\n",
       "    }\n",
       "\n",
       "    .dataframe thead th {\n",
       "        text-align: right;\n",
       "    }\n",
       "</style>\n",
       "<table border=\"1\" class=\"dataframe\">\n",
       "  <thead>\n",
       "    <tr style=\"text-align: right;\">\n",
       "      <th></th>\n",
       "      <th>nome</th>\n",
       "      <th>idade</th>\n",
       "      <th>cidade</th>\n",
       "    </tr>\n",
       "  </thead>\n",
       "  <tbody>\n",
       "    <tr>\n",
       "      <th>0</th>\n",
       "      <td>joao</td>\n",
       "      <td>10</td>\n",
       "      <td>sao paulo</td>\n",
       "    </tr>\n",
       "  </tbody>\n",
       "</table>\n",
       "</div>"
      ],
      "text/plain": [
       "   nome  idade     cidade\n",
       "0  joao     10  sao paulo"
      ]
     },
     "execution_count": 10,
     "metadata": {},
     "output_type": "execute_result"
    }
   ],
   "source": [
    "# lendo os arquivos\n",
    "\n",
    "df_exel = pd.read_excel('dados_excel.xlsx')\n",
    "df_exel"
   ]
  },
  {
   "cell_type": "code",
   "execution_count": 11,
   "metadata": {},
   "outputs": [
    {
     "data": {
      "text/html": [
       "<div>\n",
       "<style scoped>\n",
       "    .dataframe tbody tr th:only-of-type {\n",
       "        vertical-align: middle;\n",
       "    }\n",
       "\n",
       "    .dataframe tbody tr th {\n",
       "        vertical-align: top;\n",
       "    }\n",
       "\n",
       "    .dataframe thead th {\n",
       "        text-align: right;\n",
       "    }\n",
       "</style>\n",
       "<table border=\"1\" class=\"dataframe\">\n",
       "  <thead>\n",
       "    <tr style=\"text-align: right;\">\n",
       "      <th></th>\n",
       "      <th>nome</th>\n",
       "      <th>idade</th>\n",
       "      <th>cidade</th>\n",
       "    </tr>\n",
       "  </thead>\n",
       "  <tbody>\n",
       "    <tr>\n",
       "      <th>0</th>\n",
       "      <td>joao</td>\n",
       "      <td>10</td>\n",
       "      <td>sao paulo</td>\n",
       "    </tr>\n",
       "  </tbody>\n",
       "</table>\n",
       "</div>"
      ],
      "text/plain": [
       "   nome  idade     cidade\n",
       "0  joao     10  sao paulo"
      ]
     },
     "execution_count": 11,
     "metadata": {},
     "output_type": "execute_result"
    }
   ],
   "source": [
    "# lendo os arquivos\n",
    "\n",
    "df_csv = pd.read_csv('dados_csv.csv')\n",
    "df_csv"
   ]
  },
  {
   "cell_type": "code",
   "execution_count": 21,
   "metadata": {},
   "outputs": [
    {
     "data": {
      "text/plain": [
       "{'nome': 'joao', 'idade': 10, 'cidade': 'sao paulo'}"
      ]
     },
     "execution_count": 21,
     "metadata": {},
     "output_type": "execute_result"
    }
   ],
   "source": [
    "# lendo os arquivos\n",
    "\n",
    "with open('dados.json', 'r') as json_file:\n",
    "    df_json = json.load(json_file)\n",
    "\n",
    "df_json"
   ]
  },
  {
   "cell_type": "code",
   "execution_count": 18,
   "metadata": {},
   "outputs": [],
   "source": [
    "dados = {\n",
    "    'nome': ['joao', 'maria', 'pedro'],\n",
    "    'idade': [30, 25, 35],\n",
    "    'cidade': ['sao paulo', 'rio de janeiro', 'belo horizonte'],\n",
    "    'profissao': ['engenheiro', 'professora','medico']\n",
    "}\n",
    "\n",
    "df = pd.DataFrame(dados)"
   ]
  },
  {
   "cell_type": "code",
   "execution_count": 27,
   "metadata": {},
   "outputs": [],
   "source": [
    "with open('dados2.json', 'w') as file:\n",
    "    json.dump(dados, file)\n",
    "\n",
    "df2_csv = df.to_csv('dados2_csv.csv')\n",
    "df2_exel = df.to_excel('dados2_exel.xlsx')"
   ]
  },
  {
   "cell_type": "code",
   "execution_count": 41,
   "metadata": {},
   "outputs": [],
   "source": [
    "df2_csv = pd.read_csv('dados2_csv.csv')\n",
    "df2_exel = pd.read_excel('dados2_exel.xlsx')\n",
    "\n",
    "with open('dados2.json', 'r') as json2_file:\n",
    "    df2_json = json.load(json2_file)\n"
   ]
  },
  {
   "cell_type": "code",
   "execution_count": 42,
   "metadata": {},
   "outputs": [
    {
     "name": "stdout",
     "output_type": "stream",
     "text": [
      "dados por exel\n",
      "    Unnamed: 0   nome  idade          cidade   profissao\n",
      "0           0   joao     30       sao paulo  engenheiro\n",
      "1           1  maria     25  rio de janeiro  professora\n",
      "2           2  pedro     35  belo horizonte      medico\n",
      "\n",
      "\n",
      "dados por csv\n",
      "    Unnamed: 0   nome  idade          cidade   profissao\n",
      "0           0   joao     30       sao paulo  engenheiro\n",
      "1           1  maria     25  rio de janeiro  professora\n",
      "2           2  pedro     35  belo horizonte      medico\n",
      "\n",
      "\n",
      "dados por json\n",
      " {'nome': ['joao', 'maria', 'pedro'], 'idade': [30, 25, 35], 'cidade': ['sao paulo', 'rio de janeiro', 'belo horizonte'], 'profissao': ['engenheiro', 'professora', 'medico']}\n"
     ]
    }
   ],
   "source": [
    "print('dados por exel\\n', df2_exel)\n",
    "print('\\n\\ndados por csv\\n', df2_csv)\n",
    "print('\\n\\ndados por json\\n', df2_json)"
   ]
  }
 ],
 "metadata": {
  "kernelspec": {
   "display_name": "Python 3",
   "language": "python",
   "name": "python3"
  },
  "language_info": {
   "codemirror_mode": {
    "name": "ipython",
    "version": 3
   },
   "file_extension": ".py",
   "mimetype": "text/x-python",
   "name": "python",
   "nbconvert_exporter": "python",
   "pygments_lexer": "ipython3",
   "version": "3.11.4"
  },
  "orig_nbformat": 4
 },
 "nbformat": 4,
 "nbformat_minor": 2
}
