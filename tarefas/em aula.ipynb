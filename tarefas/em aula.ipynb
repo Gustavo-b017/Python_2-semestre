{
 "cells": [
  {
   "cell_type": "code",
   "execution_count": 77,
   "metadata": {},
   "outputs": [],
   "source": [
    "import numpy as np\n",
    "import pandas as pd"
   ]
  },
  {
   "cell_type": "code",
   "execution_count": null,
   "metadata": {},
   "outputs": [],
   "source": [
    "brasil = ['Rio Preto', 'Campo Grande', 'Palmas', 'Campinas', 'Salvador', 'Manaus']\n",
    "\n",
    "tupla = tuple(brasil)\n",
    "\n",
    "tupla"
   ]
  },
  {
   "cell_type": "code",
   "execution_count": null,
   "metadata": {},
   "outputs": [],
   "source": [
    "tupla_lista = np.array(tupla)\n",
    "tupla_lista[3] = ('Floripa')\n",
    "tupla = tuple(tupla_lista)\n",
    "\n",
    "tupla"
   ]
  },
  {
   "cell_type": "code",
   "execution_count": null,
   "metadata": {},
   "outputs": [],
   "source": [
    "cidades_brasil = ('Rio de Janeiro', 'Sao Paulo')\n",
    "\n",
    "tupla +cidades_brasil"
   ]
  },
  {
   "cell_type": "code",
   "execution_count": null,
   "metadata": {},
   "outputs": [],
   "source": [
    "x = float(input('qual e o x?'))\n",
    "\n",
    "def calc(x):\n",
    "    form = (10*x**2 + 5*x -2)\n",
    "    return form\n",
    "\n",
    "calc(x)"
   ]
  },
  {
   "cell_type": "code",
   "execution_count": null,
   "metadata": {},
   "outputs": [],
   "source": [
    "x = float(input('qual e o x?'))\n",
    "y = float(input('qual e o y?'))\n",
    "m = float(input('qual e a massa?'))\n",
    "a = float(input('qual e a aceleracao?'))\n",
    "\n",
    "def calc():\n",
    "    equacao = (10*x**2 + 5*x -2)\n",
    "    forca = m * a\n",
    "    equacao3 = (y**3 + 10*y**2 - 5*y + 10)\n",
    "    return equacao, forca, equacao3\n",
    "\n",
    "segundo, forca, quadrado = calc()\n",
    "\n",
    "print(f\"A resposta do em que o x é {x}, tem o resultado de: {segundo}\")\n",
    "print(f\"A resposta da forca em que a massa é {m} com a aceleracao de {a}, tem o resultado de: {forca}\")\n",
    "print(f\"A resposta do em que o y é {y}, tem o resultado de: {quadrado}\")"
   ]
  },
  {
   "cell_type": "code",
   "execution_count": null,
   "metadata": {},
   "outputs": [],
   "source": [
    "produtos = {\n",
    "    'Bananas': [100], \n",
    "    'maca': [150], \n",
    "    'pera': [120], \n",
    "    'melancia': [40], \n",
    "    'morango': [250], \n",
    "    'melao': [53]\n",
    "}\n",
    "\n",
    "frutas = pd.DataFrame(produtos)\n",
    "frutas"
   ]
  },
  {
   "cell_type": "code",
   "execution_count": 84,
   "metadata": {},
   "outputs": [
    {
     "name": "stdout",
     "output_type": "stream",
     "text": [
      "250\n",
      "40\n",
      "118.83333333333333\n"
     ]
    }
   ],
   "source": [
    "frutas_max = np.max(frutas)\n",
    "frutas_min = np.min(frutas)\n",
    "frutas_media = np.mean(frutas)\n",
    "print(frutas_max)\n",
    "print(frutas_min)\n",
    "print(frutas_media)"
   ]
  },
  {
   "cell_type": "code",
   "execution_count": 89,
   "metadata": {},
   "outputs": [
    {
     "data": {
      "text/html": [
       "<div>\n",
       "<style scoped>\n",
       "    .dataframe tbody tr th:only-of-type {\n",
       "        vertical-align: middle;\n",
       "    }\n",
       "\n",
       "    .dataframe tbody tr th {\n",
       "        vertical-align: top;\n",
       "    }\n",
       "\n",
       "    .dataframe thead th {\n",
       "        text-align: right;\n",
       "    }\n",
       "</style>\n",
       "<table border=\"1\" class=\"dataframe\">\n",
       "  <thead>\n",
       "    <tr style=\"text-align: right;\">\n",
       "      <th></th>\n",
       "      <th>datas</th>\n",
       "      <th>preco</th>\n",
       "    </tr>\n",
       "  </thead>\n",
       "  <tbody>\n",
       "    <tr>\n",
       "      <th>0</th>\n",
       "      <td>mes 1</td>\n",
       "      <td>3.50</td>\n",
       "    </tr>\n",
       "    <tr>\n",
       "      <th>1</th>\n",
       "      <td>mes 2</td>\n",
       "      <td>3.55</td>\n",
       "    </tr>\n",
       "    <tr>\n",
       "      <th>2</th>\n",
       "      <td>mes 3</td>\n",
       "      <td>3.48</td>\n",
       "    </tr>\n",
       "    <tr>\n",
       "      <th>3</th>\n",
       "      <td>mes 4</td>\n",
       "      <td>3.60</td>\n",
       "    </tr>\n",
       "    <tr>\n",
       "      <th>4</th>\n",
       "      <td>mes 5</td>\n",
       "      <td>3.65</td>\n",
       "    </tr>\n",
       "    <tr>\n",
       "      <th>5</th>\n",
       "      <td>mes 6</td>\n",
       "      <td>3.70</td>\n",
       "    </tr>\n",
       "    <tr>\n",
       "      <th>6</th>\n",
       "      <td>mes 7</td>\n",
       "      <td>3.68</td>\n",
       "    </tr>\n",
       "    <tr>\n",
       "      <th>7</th>\n",
       "      <td>mes 8</td>\n",
       "      <td>3.75</td>\n",
       "    </tr>\n",
       "    <tr>\n",
       "      <th>8</th>\n",
       "      <td>mes 9</td>\n",
       "      <td>3.80</td>\n",
       "    </tr>\n",
       "    <tr>\n",
       "      <th>9</th>\n",
       "      <td>mes 10</td>\n",
       "      <td>3.78</td>\n",
       "    </tr>\n",
       "    <tr>\n",
       "      <th>10</th>\n",
       "      <td>mes 11</td>\n",
       "      <td>3.80</td>\n",
       "    </tr>\n",
       "    <tr>\n",
       "      <th>11</th>\n",
       "      <td>mes 12</td>\n",
       "      <td>3.90</td>\n",
       "    </tr>\n",
       "  </tbody>\n",
       "</table>\n",
       "</div>"
      ],
      "text/plain": [
       "     datas  preco\n",
       "0    mes 1   3.50\n",
       "1    mes 2   3.55\n",
       "2    mes 3   3.48\n",
       "3    mes 4   3.60\n",
       "4    mes 5   3.65\n",
       "5    mes 6   3.70\n",
       "6    mes 7   3.68\n",
       "7    mes 8   3.75\n",
       "8    mes 9   3.80\n",
       "9   mes 10   3.78\n",
       "10  mes 11   3.80\n",
       "11  mes 12   3.90"
      ]
     },
     "execution_count": 89,
     "metadata": {},
     "output_type": "execute_result"
    }
   ],
   "source": [
    "preco = {\n",
    "    'datas' : ['mes 1', 'mes 2', 'mes 3', 'mes 4', 'mes 5', 'mes 6', 'mes 7', 'mes 8', 'mes 9', 'mes 10', 'mes 11', 'mes 12'],\n",
    "    'preco' : [3.50,3.55,3.48,3.60,3.65,3.70,3.68,3.75,3.80 ,3.78 ,3.80 ,3.90]\n",
    "}\n",
    "\n",
    "gas = pd.DataFrame(preco)\n",
    "gas"
   ]
  },
  {
   "cell_type": "code",
   "execution_count": 117,
   "metadata": {},
   "outputs": [
    {
     "data": {
      "text/plain": [
       "datas    mes 3\n",
       "preco     3.48\n",
       "Name: 2, dtype: object"
      ]
     },
     "execution_count": 117,
     "metadata": {},
     "output_type": "execute_result"
    }
   ],
   "source": [
    "gas.loc[gas['preco'].idxmin()]"
   ]
  },
  {
   "cell_type": "code",
   "execution_count": 119,
   "metadata": {},
   "outputs": [
    {
     "data": {
      "text/plain": [
       "datas    mes 12\n",
       "preco       3.9\n",
       "Name: 11, dtype: object"
      ]
     },
     "execution_count": 119,
     "metadata": {},
     "output_type": "execute_result"
    }
   ],
   "source": [
    "gas.loc[gas['preco'].idxmax()]\n"
   ]
  },
  {
   "cell_type": "code",
   "execution_count": null,
   "metadata": {},
   "outputs": [],
   "source": [
    "gas.loc[gas['preco'].idxmean()]"
   ]
  }
 ],
 "metadata": {
  "kernelspec": {
   "display_name": "Python 3",
   "language": "python",
   "name": "python3"
  },
  "language_info": {
   "codemirror_mode": {
    "name": "ipython",
    "version": 3
   },
   "file_extension": ".py",
   "mimetype": "text/x-python",
   "name": "python",
   "nbconvert_exporter": "python",
   "pygments_lexer": "ipython3",
   "version": "3.11.4"
  },
  "orig_nbformat": 4
 },
 "nbformat": 4,
 "nbformat_minor": 2
}
